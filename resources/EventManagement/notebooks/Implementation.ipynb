{
 "cells": [
  {
   "cell_type": "code",
   "execution_count": 2,
   "metadata": {
    "jupyter": {
     "source_hidden": true
    }
   },
   "outputs": [
    {
     "name": "stdout",
     "output_type": "stream",
     "text": [
      "Path added to sys.path: C:/Users/catch/Documents/GitHub/DU-event-transcript-demo/resources/EventManagement\n",
      "\n",
      "Python ver: 3.7.6 | packaged by conda-forge | (default, Jun  1 2020, 18:11:50) [MSC v.1916 64 bit (AMD64)]\n",
      "Python env: p37\n",
      "OS:         win32\n",
      "Current dir: C:\\Users\\catch\\Documents\\GitHub\\DU-event-transcript-demo\\resources\\EventManagement\\notebooks\n",
      "\n",
      "2020-12-21T15:00:52-05:00\n",
      "\n",
      "CPython 3.7.6\n",
      "IPython 7.16.1\n",
      "\n",
      "compiler   : MSC v.1916 64 bit (AMD64)\n",
      "system     : Windows\n",
      "release    : 10\n",
      "machine    : AMD64\n",
      "processor  : Intel64 Family 6 Model 142 Stepping 10, GenuineIntel\n",
      "CPU cores  : 8\n",
      "interpreter: 64bit\n",
      "pandas     1.0.5\n",
      "matplotlib 3.3.1\n",
      "\n"
     ]
    }
   ],
   "source": [
    "# To get multiple outputs from one code cell (without using print()):\n",
    "from IPython.core.interactiveshell import InteractiveShell\n",
    "InteractiveShell.ast_node_interactivity = 'all'\n",
    "\n",
    "from IPython import get_ipython\n",
    "from IPython.display import HTML, Markdown, Image, Audio\n",
    "\n",
    "import sys\n",
    "from pathlib import Path\n",
    "\n",
    "# For documenting the current environment:\n",
    "def sys_info():\n",
    "    frmt = '\\nPython ver: {}\\nPython env: {}\\n'\n",
    "    frmt += 'OS:         {}\\nCurrent dir: {}\\n'\n",
    "    print(frmt.format(sys.version, \n",
    "                      Path(sys.prefix).name,\n",
    "                      sys.platform,\n",
    "                      Path.cwd()))\n",
    "\n",
    "# For enabling imports from current project code:\n",
    "def add_to_sys_path(this_path, up=False):\n",
    "    \"\"\"\n",
    "    Prepend this_path to sys.path.\n",
    "    If up=True, path refers to parent folder (1 level up).\n",
    "    \"\"\"\n",
    "    newp = Path(this_path).as_posix() # no str method (?)\n",
    "    if up:\n",
    "        newp = Path(this_path).parent.as_posix()\n",
    "\n",
    "    msg = F'Path already in sys.path: {newp}'\n",
    "    if newp not in sys.path:\n",
    "        sys.path.insert(1, newp)\n",
    "        msg = F'Path added to sys.path: {newp}'\n",
    "    print(msg)\n",
    "\n",
    "# If this ipynb file is inside a folder, eg ./notebooks, \n",
    "# the project code is assumed to reside 1 level up:\n",
    "nb_folder = 'notebooks'\n",
    "add_to_sys_path(Path.cwd(), up=Path.cwd().name.startswith(nb_folder))\n",
    "\n",
    "\n",
    "# For py modules/methods discovery:\n",
    "def filter_dir(mdl, filter_str=None, start_with_str='_', exclude=True):\n",
    "    \"\"\"Filter dir(mdl) for method discovery.\n",
    "       Input:\n",
    "       :param mdl (object): module, optionally with submodule path(s), e.g. mdl.submdl1.submdl2.\n",
    "       :param filter_str (str, None): filter all method names containing that string.\n",
    "       :param start_with_str (str, '_'), exclude (bool, True): start_with_str and exclude work \n",
    "              together to perform search on non-dunder methods (default).\n",
    "       Example:\n",
    "       >filter_dir(re) # lists the public methods of the re module.\n",
    "    \"\"\"\n",
    "    search_dir = [d for d in dir(mdl) if not d.startswith(start_with_str) == exclude]\n",
    "    if filter_str is None:\n",
    "        return search_dir\n",
    "    else:\n",
    "        filter_str = filter_str.lower()\n",
    "        return [d for d in search_dir if d.lower().find(filter_str) != -1]\n",
    "\n",
    "# To create often-used subfolders:\n",
    "def get_project_dirs(which=['data', 'images'],\n",
    "                     use_parent=True):\n",
    "    '''Create folder(s) named in `which` at the ipynb parent level.'''\n",
    "    if use_parent:\n",
    "        dir_fn = Path.cwd().parent.joinpath\n",
    "    else:\n",
    "        dir_fn = Path.cwd().joinpath\n",
    "        \n",
    "    dir_lst = []    \n",
    "    for d in which:\n",
    "        DIR = dir_fn(d)\n",
    "        if not DIR.exists():\n",
    "            Path.mkdir(DIR)\n",
    "        dir_lst.append(DIR)\n",
    "    return dir_lst\n",
    "\n",
    "DIR_DATA, DIR_IMG = get_project_dirs()\n",
    "\n",
    "import pandas as pd\n",
    "#pd.set_option(\"display.max_colwidth\", 200)\n",
    "\n",
    "import matplotlib as mpl\n",
    "from matplotlib import pyplot as plt\n",
    "plt.ion()\n",
    "plt.style.use('seaborn-muted')\n",
    "\n",
    "from pprint import pprint as pp\n",
    "\n",
    "# For adding colorfull divider in the nb:\n",
    "def add_div(div_class='info', div_start='Tip:', \n",
    "            div_text='Some tip here', output_string=True):\n",
    "    \"\"\"\n",
    "    Behaviour with default `output_string=True`:\n",
    "    The cell is overwritten with the output, but the cell mode is still 'code',\n",
    "    not 'markdown'.\n",
    "    Workaround: After running the function, click on the new cell, press ESC, \n",
    "                type 'm', then run the new cell.\n",
    "    If `output_string=False`, the output is displayed in an new cell with the \n",
    "    code cell visible.\n",
    "    ```\n",
    "    [x]\n",
    "    add_div('alert-warning', 'Tip: ', 'some tip here', output_string=True)\n",
    "    [x]\n",
    "    <div class=\"alert alert-warning\"><b>Tip: </b>some tip here</div>\n",
    "    ```\n",
    "    \"\"\"\n",
    "    accepted = ['info', 'warning', 'danger']\n",
    "    div_class = div_class.lower()\n",
    "    if div_class not in accepted:\n",
    "        msg = f'<div class=\"alert\"><b>Wrong class:&nbsp;</b> `div_start` not in: {accepted}.</div>'\n",
    "        return Markdown(msg)\n",
    "    \n",
    "    div = f\"\"\"<div class=\"alert alert-{div_class}\"><b>{div_start}&nbsp;&nbsp;</b>{div_text}</div>\"\"\"\n",
    "    if output_string:\n",
    "        return get_ipython().set_next_input(div, 'markdown')\n",
    "    else:\n",
    "        return Markdown(div)\n",
    "\n",
    "    \n",
    "def new_section(title='New section'):\n",
    "    style = \"text-align:center;background:#c2d3ef;padding:16px;color:#ffffff;font-size:2em;width:98%\"\n",
    "    div = f'<div style=\"{style}\">{title}</div>'\n",
    "    #return HTML('<div style=\"{}\">{}</div>'.format(style, title))\n",
    "    return get_ipython().set_next_input(div, 'markdown')\n",
    "\n",
    "\n",
    "# For documenting the current environment:\n",
    "def show_versions():\n",
    "    txt = '<pre><br>'\n",
    "    txt += F'Python:\\t\\t{sys.version}<br>'\n",
    "    txt += F'Python env:\\t{Path(sys.prefix).name}<br>'\n",
    "    txt += F'Numpy:\\t\\t{np.__version__}<br>'\n",
    "    txt += F'Scipy:\\t\\t{sp.__version__}<br>'\n",
    "    txt += F'Pandas:\\t\\t{pd.__version__}<br>'\n",
    "    txt += F'Matplotlib:\\t{mpl.__version__}<br>'\n",
    "    txt += F'Currrent dir: {Path.cwd()}'\n",
    "    txt += '</pre>'\n",
    "    div = f\"\"\"<div class=\"alert alert-info\"><b>Versions:</b><br>{txt}</div>\"\"\"\n",
    "    return HTML(div)\n",
    "\n",
    "\n",
    "# autoreload extension\n",
    "if 'autoreload' not in get_ipython().extension_manager.loaded:\n",
    "    get_ipython().run_line_magic('load_ext', 'autoreload')\n",
    "\n",
    "%autoreload 2\n",
    "\n",
    "#..................\n",
    "sys_info()\n",
    "\n",
    "no_wmark = False\n",
    "try:\n",
    "    %load_ext watermark\n",
    "    %watermark\n",
    "except ModuleNotFoundError:\n",
    "    no_wmark = True\n",
    "\n",
    "if no_wmark:\n",
    "    show_versions()\n",
    "else:\n",
    "    %watermark -iv\n"
   ]
  },
  {
   "cell_type": "markdown",
   "metadata": {},
   "source": [
    "---\n",
    "---\n",
    "# IMPLEMENTATION DETAILS: Audio transcription of Data Umbrella's video presentations on  YouTube\n",
    "### Non-GUI workflow examples to show function calls, class methods, etc.\n",
    "---"
   ]
  },
  {
   "cell_type": "code",
   "execution_count": 3,
   "metadata": {},
   "outputs": [],
   "source": [
    "from manage import (EventMeta as Meta,\n",
    "                    EventTranscription as TRX,\n",
    "                    Workflow as FLO,\n",
    "                    Utils as UTL)\n",
    "\n",
    "main_readme = Meta.MAIN_README"
   ]
  },
  {
   "cell_type": "raw",
   "metadata": {},
   "source": [
    "# list of constants, variables & available methods:\n",
    "filter_dir(Meta)"
   ]
  },
  {
   "cell_type": "markdown",
   "metadata": {},
   "source": [
    "---\n",
    "# Original (live) README:\n",
    "The live, original is in https://github.com/data-umbrella/event-transcripts\n",
    "#### This Markdown file has the links to the individual presentation transcripts, whether completed or not."
   ]
  },
  {
   "cell_type": "raw",
   "metadata": {},
   "source": [
    "# Switch cell mode to 'code' to view live readme (requires internet connection).\n",
    "DU_transcripts_readme_raw = \"https://raw.githubusercontent.com/data-umbrella/event-transcripts/main/README.md\"\n",
    "live_readme = Markdown(DU_transcripts_readme_raw)\n",
    "live_readme"
   ]
  },
  {
   "cell_type": "markdown",
   "metadata": {},
   "source": [
    "---\n",
    "# Modified main readme file (in this repo):\n",
    "* 'README_original.md' is a copy of the live README file with markers (htm comments) added to identify the start and end of the events table.\n",
    "* It included all the names associated with an event, e.g.: \"Hugo, James\" -> \"Hugo Bowne-Anderson, James Bourbeau\"\n",
    "* It may also contain any test/dummy entry created as demo entries.\n",
    "* Additionally, some transcript Markdown files have undergone a \"header normalization\".\n",
    "\n",
    "\n",
    "## Transcript \"header normalization\"\n",
    "### The H2-headers items must have a unique list header:\n",
    "Example: in \"05\" Andreas Mueller's md, there are 2 Video list items:\n",
    "### First sub-header with correct format:  \n",
    "```\n",
    "- Video:  https://www.youtube.com/watch?v=5OL8XoMMOfA&feature=youtu.be&t=1\n",
    "```\n",
    "### The duplicated list item header, '- Video' was renamed \"- Sprint Video\":  \n",
    "```\n",
    "- Sprint Video:  [Scikit-learn Sprint Instructions](https://youtu.be/5OL8XoMMOfA) (30 minutes)\n",
    "```\n",
    "### Finally, list items without a heading (e.g. just a Markdown link) were given one:   \n",
    "```\n",
    "- Contributing primer: **[Contributing Workflow Commands](contributing/workflow.md)** (environment set-up, repo, submitting PR)\n",
    "- Contributing to Scikit-learn: [Scikit-learn Contributing Documentation](http://scikit-learn.org/stable/developers/contributing.html)\n",
    "```    "
   ]
  },
  {
   "cell_type": "code",
   "execution_count": 4,
   "metadata": {},
   "outputs": [
    {
     "data": {
      "text/markdown": [
       "### Local README:"
      ],
      "text/plain": [
       "<IPython.core.display.Markdown object>"
      ]
     },
     "execution_count": 4,
     "metadata": {},
     "output_type": "execute_result"
    },
    {
     "data": {
      "text/markdown": [
       "<p >\n",
       " <a href=\"https://www.dataumbrella.org\" target=\"_blank\"> <img src=\"images/full_logo_transparent.png\" height=\"30%\" width=\"30%\" /> </a>\n",
       "</p>\n",
       "\n",
       "# Event Transcripts\n",
       "\n",
       "\n",
       "## [Videos](https://www.youtube.com/c/DataUmbrella/videos)\n",
       "Subscribe to our YouTube [Data Umbrella channel](https://www.youtube.com/c/DataUmbrella/videos).\n",
       "\n",
       "## [Contributing Guide](CONTRIBUTING.md)\n",
       "Review our [Contributing Instructions](CONTRIBUTING.md) before beginning editing or transcribing work.  \n",
       "\n",
       "<!-- main_tbl_start -->\n",
       "| #  | Speaker             | Talk Transcript  | Transcriber  | Status | Notes |\n",
       "|--- |---                  |---               |---           |---     |---    |\n",
       "| 01 | Hugo Bowne-Anderson | Bayesian Data Science  | N.A. | Not recorded | |\n",
       "| 02 | Bruno Goncalves     | Time Series Modeling   | N.A. | Not recorded | |\n",
       "| 03 | Ty Shaikh           | [Webscraping Poshmark](2020/03-ty-shaikh-webscraping.md) | ?  |  | |\n",
       "| 04 | Ali Spittel         | [Navigating Your Tech Career](2020/04-ali-spittel-career.md)| Janine | Needs reviewer | |\n",
       "| 05 | Andreas Mueller     | [Crash Course in Contributing to Scikit-learn](2020/05-andreas-mueller-contributing.md) | Reshama Shaikh | Complete | |\n",
       "| 06 | Reshama Shaikh      | [Example PR for Scikit-learn](2020/06-reshama-shaikh-sklearn-pr.md) | Reshama, Mark  | Complete | |\n",
       "| 07 | Shailvi Wakhlu      | [Fixing Bad Data and Using SQL](2020/07-shailvi-wakhlu-fixing-data.md) | Juanita | Complete | |\n",
       "| 08 | Matt Brems          | [Data Science with Missing Data](2020/08-matt-brems-missing-data.md) | Barbara | | |\n",
       "| 09 | Sam Bail            | [Intro to Terminal](2020/09-sam-bail-terminal.md) | Isaack | Complete | |\n",
       "| 10 | Emily Robinson      | [Build a Career in Data Science](2020/10-emily-robinson-career.md) | Kevin | Complete | |\n",
       "| 11 | Rebecca Kelly       | [Kdb Time Series Database](2020/11-rebecca-kelly-kdb.md) | Coretta | Needs reviewer | Paragraphs are too long |\n",
       "| 12 | Mridu Bhatnagar     | [Build a Bot](2020/12-mridu-bhatnagar-bot.md) | ? |  | |\n",
       "| 13 | Liz DiLuzio         | [Creating Nimble Data Processes](2020/13-liz-diluzio-data-process.md) | Lily | Complete | |\n",
       "| 14 | Megan Robertson     | [3 Lessons From 3 Years of Data Science](2020/14-megan-robertson-career.md) | Sethupathy  | Needs reviewer | Headers should not be in capital letters, etc |\n",
       "| 15 | Emma Gouillart      | [Data Visualization with Plotly](2020/15-emma-gouillart-plotly.md) | ? |  | |\n",
       "| 16 | Hugo Bowne-Anderson, James Bourbeau | [Data Science and Machine Learning at Scale](2020/16-hugo-james-dask.md) | Cynthia |  | |\n",
       "| 17 | Carol Willing      | [Contributing to Core Python](2020/17-carol-python.md) | ? |  | |\n",
       "<!-- main_tbl_end -->\n"
      ],
      "text/plain": [
       "<IPython.core.display.Markdown object>"
      ]
     },
     "execution_count": 4,
     "metadata": {},
     "output_type": "execute_result"
    },
    {
     "data": {
      "text/markdown": [
       "---\n",
       "---"
      ],
      "text/plain": [
       "<IPython.core.display.Markdown object>"
      ]
     },
     "execution_count": 4,
     "metadata": {},
     "output_type": "execute_result"
    }
   ],
   "source": [
    "readme = FLO.show_local_readme(main_readme)\n",
    "Markdown('### Local README:')\n",
    "readme\n",
    "Markdown('---\\n---')"
   ]
  },
  {
   "cell_type": "code",
   "execution_count": 5,
   "metadata": {},
   "outputs": [
    {
     "data": {
      "text/markdown": [
       "### README Markdown code:  \n",
       "**Note the added comment lines at start and end of main table: added for automatic update**"
      ],
      "text/plain": [
       "<IPython.core.display.Markdown object>"
      ]
     },
     "execution_count": 5,
     "metadata": {},
     "output_type": "execute_result"
    },
    {
     "name": "stdout",
     "output_type": "stream",
     "text": [
      "('<p >\\n'\n",
      " ' <a href=\"https://www.dataumbrella.org\" target=\"_blank\"> <img '\n",
      " 'src=\"images/full_logo_transparent.png\" height=\"30%\" width=\"30%\" /> </a>\\n'\n",
      " '</p>\\n'\n",
      " '\\n'\n",
      " '# Event Transcripts\\n'\n",
      " '\\n'\n",
      " '\\n'\n",
      " '## [Videos](https://www.youtube.com/c/DataUmbrella/videos)\\n'\n",
      " 'Subscribe to our YouTube [Data Umbrella '\n",
      " 'channel](https://www.youtube.com/c/DataUmbrella/videos).\\n'\n",
      " '\\n'\n",
      " '## [Contributing Guide](CONTRIBUTING.md)\\n'\n",
      " 'Review our [Contributing Instructions](CONTRIBUTING.md) before beginning '\n",
      " 'editing or transcribing work.  \\n'\n",
      " '\\n'\n",
      " '<!-- main_tbl_start -->\\n'\n",
      " '| #  | Speaker             | Talk Transcript  | Transcriber  | Status | '\n",
      " 'Notes |\\n'\n",
      " '|--- |---                  |---               |---           |---     '\n",
      " '|---    |\\n'\n",
      " '| 01 | Hugo Bowne-Anderson | Bayesian Data Science  | N.A. | Not recorded | '\n",
      " '|\\n'\n",
      " '| 02 | Bruno Goncalves     | Time Series Modeling   | N.A. | Not recorded | '\n",
      " '|\\n'\n",
      " '| 03 | Ty Shaikh           | [Webscraping '\n",
      " 'Poshmark](2020/03-ty-shaikh-webscraping.md) | ?  |  | |\\n'\n",
      " '| 04 | Ali Spittel         | [Navigating Your Tech '\n",
      " 'Career](2020/04-ali-spittel-career.md)| Janine | Needs reviewer | |\\n'\n",
      " '| 05 | Andreas Mueller     | [Crash Course in Contributing to '\n",
      " 'Scikit-learn](2020/05-andreas-mueller-contributing.md) | Reshama Shaikh | '\n",
      " 'Complete | |\\n'\n",
      " '| 06 | Reshama Shaikh      | [Example PR for '\n",
      " 'Scikit-learn](2020/06-reshama-shaikh-sklearn-pr.md) | Reshama, Mark  | '\n",
      " 'Complete | |\\n'\n",
      " '| 07 | Shailvi Wakhlu      | [Fixing Bad Data and Using '\n",
      " 'SQL](2020/07-shailvi-wakhlu-fixing-data.md) | Juanita | Complete | |\\n'\n",
      " '| 08 | Matt Brems          | [Data Science with Missing '\n",
      " 'Data](2020/08-matt-brems-missing-data.md) | Barbara | | |\\n'\n",
      " '| 09 | Sam Bail            | [Intro to '\n",
      " 'Terminal](2020/09-sam-bail-terminal.md) | Isaack | Complete | |\\n'\n",
      " '| 10 | Emily Robinson      | [Build a Career in Data '\n",
      " 'Science](2020/10-emily-robinson-career.md) | Kevin | Complete | |\\n'\n",
      " '| 11 | Rebecca Kelly       | [Kdb Time Series '\n",
      " 'Database](2020/11-rebecca-kelly-kdb.md) | Coretta | Needs reviewer | '\n",
      " 'Paragraphs are too long |\\n'\n",
      " '| 12 | Mridu Bhatnagar     | [Build a Bot](2020/12-mridu-bhatnagar-bot.md) | '\n",
      " '? |  | |\\n'\n",
      " '| 13 | Liz DiLuzio         | [Creating Nimble Data '\n",
      " 'Processes](2020/13-liz-diluzio-data-process.md) | Lily | Complete | |\\n'\n",
      " '| 14 | Megan Robertson     | [3 Lessons From 3 Years of Data '\n",
      " 'Science](2020/14-megan-robertson-career.md) | Sethupathy  | Needs reviewer | '\n",
      " 'Headers should not be in capital letters, etc |\\n'\n",
      " '| 15 | Emma Gouillart      | [Data Visualization with '\n",
      " 'Plotly](2020/15-emma-gouillart-plotly.md) | ? |  | |\\n'\n",
      " '| 16 | Hugo Bowne-Anderson, James Bourbeau | [Data Science and Machine '\n",
      " 'Learning at Scale](2020/16-hugo-james-dask.md) | Cynthia |  | |\\n'\n",
      " '| 17 | Carol Willing      | [Contributing to Core '\n",
      " 'Python](2020/17-carol-python.md) | ? |  | |\\n'\n",
      " '<!-- main_tbl_end -->\\n')\n"
     ]
    }
   ],
   "source": [
    "# Markdown code of file:\n",
    "Markdown('### README Markdown code:  \\n**Note the added comment lines at start and end of main table: added for automatic update**')\n",
    "pp(readme.data)"
   ]
  },
  {
   "cell_type": "markdown",
   "metadata": {},
   "source": [
    "---"
   ]
  },
  {
   "cell_type": "markdown",
   "metadata": {},
   "source": [
    "<div style=\"text-align:center;background:#c2d3ef;padding:16px;color:#ffffff;font-size:2em;width:98%\">A. Admin workflow (code):</div>"
   ]
  },
  {
   "cell_type": "markdown",
   "metadata": {},
   "source": [
    "---\n",
    "---\n",
    "# ADD mode: initial event setup: new table entry & creation of 'starter transcript' file\n",
    "\n",
    "1. Get generic header dict\n",
    "2. Update header dict interactively\n",
    "3. Save transcript header dict as json in year/meta/ \n",
    "4. Create 'starter transcript' using header.json file\n",
    "5. Update table in main Transcripts/README.md with new entry\n",
    "6. TODO: send PR"
   ]
  },
  {
   "cell_type": "markdown",
   "metadata": {},
   "source": [
    "### 1. Get generic header dict"
   ]
  },
  {
   "cell_type": "code",
   "execution_count": 133,
   "metadata": {},
   "outputs": [],
   "source": [
    "tr = Meta.TranscriptMeta()"
   ]
  },
  {
   "cell_type": "markdown",
   "metadata": {},
   "source": [
    "### 2. Update header dict (will be done via form):"
   ]
  },
  {
   "cell_type": "code",
   "execution_count": 134,
   "metadata": {},
   "outputs": [
    {
     "data": {
      "text/plain": [
       "OrderedDict([('presenter', 'Cat Chenal, Reshama Shaikh'),\n",
       "             ('title', 'Demo Audio Transcription.'),\n",
       "             ('year', '2020'),\n",
       "             ('transcript_md', '18-cat-reshama-demo-foo.md'),\n",
       "             ('meetup_url',\n",
       "              'https://www.meetup.com/nyc-data-umbrella/events/271116695/'),\n",
       "             ('yt_video_id', 'PU1WyDPGePI'),\n",
       "             ('slides_url', 'N.A.'),\n",
       "             ('repo_url', 'N.A.'),\n",
       "             ('notebook_url', 'N.A.'),\n",
       "             ('transcriber', '?'),\n",
       "             ('extra_references',\n",
       "              '## Other References\\n- Binder:  <url>\\n- Paper:  <Paper url or citation>  \\n- Wiki:  This is an excellent [wiki on Demo foo](http://en.wikipedia.org/wiki/Main_Page) (extra ref 2) \\n'),\n",
       "             ('video_href_w', '25%'),\n",
       "             ('video_href',\n",
       "              'http://www.youtube.com/watch?feature=player_embedded&v=PU1WyDPGePI'),\n",
       "             ('video_href_src', 'http://img.youtube.com/vi/PU1WyDPGePI/0.jpg'),\n",
       "             ('video_href_alt', 'Demo Audio Transcription.'),\n",
       "             ('formatted_transcript', 'N.A.'),\n",
       "             ('idn', '18'),\n",
       "             ('title_kw', 'demo-foo'),\n",
       "             ('meta_json', '18.json'),\n",
       "             ('audio_track', '18_PU1WyDPGePI.mp4'),\n",
       "             ('audio_text', '18_PU1WyDPGePI.txt'),\n",
       "             ('has_transcript', False),\n",
       "             ('status', 'Not yet processed (editor needed)'),\n",
       "             ('notes', ''),\n",
       "             ('video_href_img',\n",
       "              'http://img.youtube.com/vi/PU1WyDPGePI/0.jpg')])"
      ]
     },
     "execution_count": 134,
     "metadata": {},
     "output_type": "execute_result"
    }
   ],
   "source": [
    "# Extract dict for update:\n",
    "meta_dict = tr.metadata \n",
    "\n",
    "# dummy data:\n",
    "DU_video = 'https://youtu.be/PU1WyDPGePI'\n",
    "DU_meetup = 'https://www.meetup.com/nyc-data-umbrella/events/271116695/'\n",
    "Meta.dummy_update(tr, meta_dict,\n",
    "                  DU_video,\n",
    "                  DU_meetup,\n",
    "                  title='Demo Audio Transcription.', titlekw='Demo foo')\n",
    "\n",
    "# Updated dict:\n",
    "tr.metadata "
   ]
  },
  {
   "cell_type": "markdown",
   "metadata": {},
   "source": [
    "### 3. Save transcript header dict\n",
    "### 4. Create 'starter transcript'"
   ]
  },
  {
   "cell_type": "code",
   "execution_count": 135,
   "metadata": {},
   "outputs": [
    {
     "name": "stdout",
     "output_type": "stream",
     "text": [
      "Markdown tpl rendered into file:\n",
      " C:\\Users\\catch\\Documents\\GitHub\\DU-event-transcript-demo\\2020\\18-cat-reshama-demo-foo.md\n"
     ]
    }
   ],
   "source": [
    "tr.save_meta()\n",
    "tr.save_transcript_md()"
   ]
  },
  {
   "cell_type": "markdown",
   "metadata": {},
   "source": [
    "### (via GUI) Show rendered transcript_md file with update:"
   ]
  },
  {
   "cell_type": "code",
   "execution_count": 136,
   "metadata": {},
   "outputs": [
    {
     "data": {
      "text/markdown": [
       "---"
      ],
      "text/plain": [
       "<IPython.core.display.Markdown object>"
      ]
     },
     "execution_count": 136,
     "metadata": {},
     "output_type": "execute_result"
    },
    {
     "data": {
      "text/markdown": [
       "# Cat Chenal, Reshama Shaikh: Demo Audio Transcription.\n",
       "\n",
       "## Key Links\n",
       "\n",
       "-   Transcript:  https://github.com/data-umbrella/event-transcripts/blob/main/2020/18-cat-reshama-demo-foo.md\n",
       "-   Meetup Event:  https://www.meetup.com/nyc-data-umbrella/events/271116695/\n",
       "-   Video: https://youtu.be/PU1WyDPGePI\n",
       "-   Slides: N.A.\n",
       "-   GitHub repo: N.A.\n",
       "-   Jupyter Notebook: N.A.\n",
       "-   Transcriber: ?\n",
       "\n",
       "## Other References\n",
       "\n",
       "-   Binder:\n",
       "-   Paper:\n",
       "-   Wiki: This is an excellent [wiki on Demo\n",
       "  foo](http://en.wikipedia.org/wiki/Main_Page) (extra ref 2)\n",
       "\n",
       "## Video\n",
       "\n",
       "<div width=\"25%\">\n",
       "  <a href=\"http://www.youtube.com/watch?feature=player_embedded&v=PU1WyDPGePI\" target=\"_blank\">\n",
       "              <img src=\"http://img.youtube.com/vi/PU1WyDPGePI/0.jpg\" \n",
       "                   alt=\"Demo AudioTranscription.\"/>\n",
       "          </a>\n",
       "        \n",
       "</div>\n",
       "\n",
       "## Transcript\n",
       "\n",
       "N.A."
      ],
      "text/plain": [
       "<IPython.core.display.Markdown object>"
      ]
     },
     "execution_count": 136,
     "metadata": {},
     "output_type": "execute_result"
    },
    {
     "data": {
      "text/markdown": [
       "---"
      ],
      "text/plain": [
       "<IPython.core.display.Markdown object>"
      ]
     },
     "execution_count": 136,
     "metadata": {},
     "output_type": "execute_result"
    }
   ],
   "source": [
    "Markdown('---')\n",
    "Markdown(filename=tr.transcript_md_path())\n",
    "Markdown('---')"
   ]
  },
  {
   "cell_type": "markdown",
   "metadata": {},
   "source": [
    "### 5. Update table in main Transcripts/README.md\n",
    "### (via GUI): After displaying transcript_md, ask if ok to update:"
   ]
  },
  {
   "cell_type": "code",
   "execution_count": 139,
   "metadata": {},
   "outputs": [
    {
     "name": "stdin",
     "output_type": "stream",
     "text": [
      "Update table entry in README? [y]: yes, [n]: no y\n"
     ]
    },
    {
     "data": {
      "text/plain": [
       "'Table in README_original.md was updated.'"
      ]
     },
     "execution_count": 139,
     "metadata": {},
     "output_type": "execute_result"
    }
   ],
   "source": [
    "do_update = input(\"Update table entry in README? [y]: yes, [n]: no\")\n",
    "do_update = 1 if do_update.lower() == 'y' else 0\n",
    "\n",
    "if do_update:\n",
    "    tr.update_readme()"
   ]
  },
  {
   "cell_type": "markdown",
   "metadata": {},
   "source": [
    "### Show updated readme:"
   ]
  },
  {
   "cell_type": "code",
   "execution_count": 140,
   "metadata": {},
   "outputs": [
    {
     "data": {
      "text/markdown": [
       "---"
      ],
      "text/plain": [
       "<IPython.core.display.Markdown object>"
      ]
     },
     "execution_count": 140,
     "metadata": {},
     "output_type": "execute_result"
    },
    {
     "data": {
      "text/markdown": [
       "<p >\n",
       " <a href=\"https://www.dataumbrella.org\" target=\"_blank\"> <img src=\"images/full_logo_transparent.png\" height=\"30%\" width=\"30%\" /> </a>\n",
       "</p>\n",
       "\n",
       "# Event Transcripts\n",
       "\n",
       "\n",
       "## [Videos](https://www.youtube.com/c/DataUmbrella/videos)\n",
       "Subscribe to our YouTube [Data Umbrella channel](https://www.youtube.com/c/DataUmbrella/videos).\n",
       "\n",
       "## [Contributing Guide](CONTRIBUTING.md)\n",
       "Review our [Contributing Instructions](CONTRIBUTING.md) before beginning editing or transcribing work.  \n",
       "\n",
       "<!-- main_tbl_start -->\n",
       "| #  | Speaker             | Talk Transcript  | Transcriber  | Status | Notes |\n",
       "|--- |---                  |---               |---           |---     |---    |\n",
       "| 01 | Hugo Bowne-Anderson | Bayesian Data Science  | N.A. | Not recorded | |\n",
       "| 02 | Bruno Goncalves     | Time Series Modeling   | N.A. | Not recorded | |\n",
       "| 03 | Ty Shaikh           | [Webscraping Poshmark](2020/03-ty-shaikh-webscraping.md) | ?  |  | |\n",
       "| 04 | Ali Spittel         | [Navigating Your Tech Career](2020/04-ali-spittel-career.md)| Janine | Needs reviewer | |\n",
       "| 05 | Andreas Mueller     | [Crash Course in Contributing to Scikit-learn](2020/05-andreas-mueller-contributing.md) | Reshama Shaikh | Complete | |\n",
       "| 06 | Reshama Shaikh      | [Example PR for Scikit-learn](2020/06-reshama-shaikh-sklearn-pr.md) | Reshama, Mark  | Complete | |\n",
       "| 07 | Shailvi Wakhlu      | [Fixing Bad Data and Using SQL](2020/07-shailvi-wakhlu-fixing-data.md) | Juanita | Complete | |\n",
       "| 08 | Matt Brems          | [Data Science with Missing Data](2020/08-matt-brems-missing-data.md) | Barbara | | |\n",
       "| 09 | Sam Bail            | [Intro to Terminal](2020/09-sam-bail-terminal.md) | Isaack | Complete | |\n",
       "| 10 | Emily Robinson      | [Build a Career in Data Science](2020/10-emily-robinson-career.md) | Kevin | Complete | |\n",
       "| 11 | Rebecca Kelly       | [Kdb Time Series Database](2020/11-rebecca-kelly-kdb.md) | Coretta | Needs reviewer | Paragraphs are too long |\n",
       "| 12 | Mridu Bhatnagar     | [Build a Bot](2020/12-mridu-bhatnagar-bot.md) | ? |  | |\n",
       "| 13 | Liz DiLuzio         | [Creating Nimble Data Processes](2020/13-liz-diluzio-data-process.md) | Lily | Complete | |\n",
       "| 14 | Megan Robertson     | [3 Lessons From 3 Years of Data Science](2020/14-megan-robertson-career.md) | Sethupathy  | Needs reviewer | Headers should not be in capital letters, etc |\n",
       "| 15 | Emma Gouillart      | [Data Visualization with Plotly](2020/15-emma-gouillart-plotly.md) | ? |  | |\n",
       "| 16 | Hugo, James         | [Data Science and Machine Learning at Scale](2020/16-hugo-james-dask.md) | Cynthia |  | |\n",
       "| 17 | Carol Willing      | [Contributing to Core Python](2020/17-carol-python.md) | ? |  | |\n",
       "| 18| Cat Chenal, Reshama Shaikh| [Demo Audio Transcription.](2020/18-cat-reshama-demo-foo.md)| ?| Not yet processed (editor needed)| | \n",
       "<!-- main_tbl_end -->\n"
      ],
      "text/plain": [
       "<IPython.core.display.Markdown object>"
      ]
     },
     "execution_count": 140,
     "metadata": {},
     "output_type": "execute_result"
    },
    {
     "data": {
      "text/markdown": [
       "---"
      ],
      "text/plain": [
       "<IPython.core.display.Markdown object>"
      ]
     },
     "execution_count": 140,
     "metadata": {},
     "output_type": "execute_result"
    }
   ],
   "source": [
    "Markdown('---\\n### Udated (local) README:')\n",
    "Markdown(filename=main_readme)\n",
    "Markdown('---')"
   ]
  },
  {
   "cell_type": "markdown",
   "metadata": {},
   "source": [
    "---\n",
    "---\n",
    "# MODIFY mode: Amend an existing transcript (header) or main table entry\n",
    "\n",
    "1. Instatiate the TranscriptMeta object with the event id.  \n",
    "If there is no associated meta.json, it is created after parsing the transcript md.\n",
    "2. Amend the table entry\n",
    "3. Save\n",
    "\n",
    "\n",
    "### Note on Event 17, \"Contributing to Core Python\":\n",
    "* Its header contains errors due to re-use of previous presentation readme as template\n",
    "* The Video link is missing a thumbnail\n",
    "* Its `alt` values is still \"alt=\"Data Science and Machine Learning at Scale\"\n",
    "\n",
    "### => Using a template for the transcript file (this implementation) would avoid this."
   ]
  },
  {
   "cell_type": "code",
   "execution_count": 8,
   "metadata": {},
   "outputs": [
    {
     "data": {
      "text/html": [
       "<div>\n",
       "<style scoped>\n",
       "    .dataframe tbody tr th:only-of-type {\n",
       "        vertical-align: middle;\n",
       "    }\n",
       "\n",
       "    .dataframe tbody tr th {\n",
       "        vertical-align: top;\n",
       "    }\n",
       "\n",
       "    .dataframe thead th {\n",
       "        text-align: right;\n",
       "    }\n",
       "</style>\n",
       "<table border=\"1\" class=\"dataframe\">\n",
       "  <thead>\n",
       "    <tr style=\"text-align: right;\">\n",
       "      <th></th>\n",
       "      <th>N</th>\n",
       "      <th>Speaker</th>\n",
       "      <th>Talk Transcript</th>\n",
       "      <th>Transcriber</th>\n",
       "      <th>Status</th>\n",
       "      <th>Notes</th>\n",
       "      <th>title</th>\n",
       "      <th>readme</th>\n",
       "    </tr>\n",
       "  </thead>\n",
       "  <tbody>\n",
       "    <tr>\n",
       "      <th>16</th>\n",
       "      <td>17</td>\n",
       "      <td>Carol Willing</td>\n",
       "      <td>[Contributing to Core Python](2020/17-carol-py...</td>\n",
       "      <td>?</td>\n",
       "      <td></td>\n",
       "      <td></td>\n",
       "      <td>Contributing to Core Python</td>\n",
       "      <td>17-carol-python.md</td>\n",
       "    </tr>\n",
       "  </tbody>\n",
       "</table>\n",
       "</div>"
      ],
      "text/plain": [
       "     N        Speaker                                    Talk Transcript  \\\n",
       "16  17  Carol Willing  [Contributing to Core Python](2020/17-carol-py...   \n",
       "\n",
       "   Transcriber Status Notes                        title              readme  \n",
       "16           ?               Contributing to Core Python  17-carol-python.md  "
      ]
     },
     "execution_count": 8,
     "metadata": {},
     "output_type": "execute_result"
    },
    {
     "name": "stderr",
     "output_type": "stream",
     "text": [
      "C:/Users/catch/Documents/GitHub/DU-event-transcript-demo/resources/EventManagement\\manage\\EventMeta.py:666: UserWarning: \n",
      "The transcript is excluded from the repr as it can be VERY long. To view it, use:\n",
      "EventMeta.pp(TranscriptMeta.metadata['formatted_transcript'])\n",
      "  warn(msg)\n"
     ]
    },
    {
     "data": {
      "text/plain": [
       "{'Github Repo': 'N.A.',\n",
       " 'Jupyter Notebook': 'N.A.',\n",
       " 'audio_text': '17_Pkg-DKkObKs.txt',\n",
       " 'audio_track': '17_Pkg-DKkObKs.mp4',\n",
       " 'extra_references': '## Reference Links\\n'\n",
       "                     '- Python On Discourse:  '\n",
       "                     'https://discuss.python.org/c/welcome/12 \\n'\n",
       "                     \"- Carol'S Pycon 2015 Talk:  \"\n",
       "                     'https://www.youtube.com/watch?v=szeo1XgmuEk \\n'\n",
       "                     '- Contributing To Scikit-Learn:  '\n",
       "                     'https://www.dataumbrella.org/open-source/contributing-to-scikit-learn \\n'\n",
       "                     '- Book Recommendation, High Performance Python:  '\n",
       "                     'https://www.oreilly.com/library/view/high-performance-python/9781492055013/ \\n',\n",
       " 'formatted_transcript': '< NOT SHOWN >',\n",
       " 'has_transcript': True,\n",
       " 'idn': '17',\n",
       " 'meetup_url': 'https://www.meetup.com/data-umbrella/events/273988042/',\n",
       " 'meta_json': '17.json',\n",
       " 'notebook_url': 'N.A.',\n",
       " 'notes': '',\n",
       " 'presenter': 'Carol Willing',\n",
       " 'repo_url': 'N.A.',\n",
       " 'slides_url': 'https://speakerdeck.com/willingc/contributing-to-core-python',\n",
       " 'title': 'Contributing to Core Python',\n",
       " 'transcriber': '?',\n",
       " 'transcript_md': '17-carol-python.md',\n",
       " 'video_href': 'http://www.youtube.com/watch?feature=player_embedded&v=Pkg-DKkObKs',\n",
       " 'video_href_alt': 'Carol Willing: Contributing to Core Python',\n",
       " 'video_href_src': '',\n",
       " 'video_href_w': '25%',\n",
       " 'video_url': 'https://youtu.be/Pkg-DKkObKs',\n",
       " 'year': '2020',\n",
       " 'yt_video_id': 'Pkg-DKkObKs'}"
      ]
     },
     "execution_count": 8,
     "metadata": {},
     "output_type": "execute_result"
    }
   ],
   "source": [
    "idn = 17\n",
    "tr1 = Meta.TranscriptMeta(idn)\n",
    "\n",
    "# index trick to display a series with the df style\n",
    "tr1.df.loc[idn-1:idn-1]\n",
    "tr1"
   ]
  },
  {
   "cell_type": "code",
   "execution_count": 12,
   "metadata": {},
   "outputs": [
    {
     "data": {
      "text/plain": [
       "['hello everyone thank you for joining',\n",
       " 'our webinar for today uh thanks for',\n",
       " 'joining data umbrella',\n",
       " \"i'm gonna do a quick introduction uh\",\n",
       " 'carol willing is going to do her talk',\n",
       " \"and we'll have a q a\",\n",
       " 'session at the end and and this webinar',\n",
       " 'is being recorded',\n",
       " \"a little bit about me i'm a statistician\",\n",
       " \"data scientist i'm the founder of data\",\n",
       " 'umbrella',\n",
       " 'and i am on twitter linkedin github has',\n",
       " 'raised my s',\n",
       " 'feel free to follow me',\n",
       " \"we have a code of conduct we're\",\n",
       " 'dedicated to providing harassment free',\n",
       " 'professional',\n",
       " 'respectful experience for everyone this',\n",
       " 'applies to the chat',\n",
       " 'as well um thank you for helping make']"
      ]
     },
     "execution_count": 12,
     "metadata": {},
     "output_type": "execute_result"
    }
   ],
   "source": [
    "# Show top of text, 2 ways:\n",
    "\n",
    "tr1.metadata['formatted_transcript'][:20]\n",
    "# or\n",
    "#print(tr1.get_transcript_text()[:900])"
   ]
  },
  {
   "cell_type": "markdown",
   "metadata": {},
   "source": [
    "### Amendments: via GUI (provides validation)\n",
    "---\n",
    "---"
   ]
  },
  {
   "cell_type": "markdown",
   "metadata": {},
   "source": [
    "<div style=\"text-align:center;background:#c2d3ef;padding:16px;color:#ffffff;font-size:2em;width:98%\">B. Editor workflow (code):</div>"
   ]
  },
  {
   "cell_type": "markdown",
   "metadata": {},
   "source": [
    "### 1. Instantiate the `TranscriptMeta` class with selected idn:"
   ]
  },
  {
   "cell_type": "code",
   "execution_count": null,
   "metadata": {},
   "outputs": [],
   "source": [
    "idn = 12\n",
    "tr = Meta.TranscriptMeta(idn)\n",
    "\n",
    "# index trick to display a series with the df style\n",
    "tr.df.loc[idn-1:idn-1]\n",
    "\n",
    "# Show thumbnail:\n",
    "Image(tr.metadata['video_href_src'])"
   ]
  },
  {
   "cell_type": "markdown",
   "metadata": {},
   "source": [
    "### 2. Instatiate the `YTAudio` class:"
   ]
  },
  {
   "cell_type": "code",
   "execution_count": null,
   "metadata": {},
   "outputs": [],
   "source": [
    "yta = TRX.YTAudio(tr)\n",
    "\n",
    "yta.captions_xml is None"
   ]
  },
  {
   "cell_type": "markdown",
   "metadata": {},
   "source": [
    "### 3. Download the audio (recommended for listening during editing)"
   ]
  },
  {
   "cell_type": "code",
   "execution_count": null,
   "metadata": {},
   "outputs": [],
   "source": [
    "yta.download_audio()"
   ]
  },
  {
   "cell_type": "markdown",
   "metadata": {},
   "source": [
    "### 4. Display audio via player:"
   ]
  },
  {
   "cell_type": "code",
   "execution_count": null,
   "metadata": {},
   "outputs": [],
   "source": [
    "Audio(filename=yta.audio_filepath)"
   ]
  },
  {
   "cell_type": "markdown",
   "metadata": {},
   "source": [
    "### 5. Get the automated, English transcript:"
   ]
  },
  {
   "cell_type": "code",
   "execution_count": null,
   "metadata": {},
   "outputs": [],
   "source": [
    "raw_transcript = yta.get_initial_transcript()\n",
    "print(raw_transcript)"
   ]
  },
  {
   "cell_type": "markdown",
   "metadata": {},
   "source": [
    "### 6. Edit (via GUI)"
   ]
  },
  {
   "cell_type": "markdown",
   "metadata": {},
   "source": [
    "### 7. Save (partial) edit:"
   ]
  },
  {
   "cell_type": "code",
   "execution_count": null,
   "metadata": {},
   "outputs": [],
   "source": [
    "UTL.save_file(Meta.DIR_DATA.joinpath(tr.metadata['audio_text']), raw_transcript)"
   ]
  },
  {
   "cell_type": "markdown",
   "metadata": {},
   "source": [
    "### 8. Render raw_transcript in Markdown:"
   ]
  },
  {
   "cell_type": "code",
   "execution_count": null,
   "metadata": {},
   "outputs": [],
   "source": [
    "raw_mark = Markdown(raw_transcript)\n",
    "raw_mark"
   ]
  },
  {
   "cell_type": "markdown",
   "metadata": {},
   "source": [
    "### 9. After initial transcript is generated, user can modify the replacements list and retry:"
   ]
  },
  {
   "cell_type": "markdown",
   "metadata": {},
   "source": [
    "#### Populate the lists & dict from files:"
   ]
  },
  {
   "cell_type": "code",
   "execution_count": null,
   "metadata": {},
   "outputs": [],
   "source": [
    "# Non-GUI way:\n",
    "people_fname = TRX.people_file\n",
    "names_fname = TRX.names_file\n",
    "places_fname = TRX.places_file\n",
    "upper_fname = TRX.upper_file\n",
    "correct_json = TRX.correct_json\n",
    "\n",
    "corrections = UTL.load_file_contents(correct_json)\n",
    "upper_list = TRX.readcsv(upper_fname).upper.tolist()\n",
    "\n",
    "people_list = TRX.readcsv(people_fname).people.tolist()\n",
    "names_list = TRX.readcsv(names_fname).names.tolist()\n",
    "places_list = TRX.readcsv(places_fname).places.tolist()"
   ]
  },
  {
   "cell_type": "markdown",
   "metadata": {},
   "source": [
    "#### All added entries are saved in lowercase because the initial transcript is using the video captions, which ~~are~~ can be _lowercase_.\n",
    "**Important Note**  \n",
    "> Many (most) of the auto-generated captions xml files have all lowercase a text. Some have entities that are recognized for true casing, but they would still require some clean up. This is why the xml text is processed as lower case."
   ]
  },
  {
   "cell_type": "markdown",
   "metadata": {},
   "source": [
    "#### Maybe, search the list(s) or corrections dict first:\n",
    "\n",
    "```\n",
    "TRX.search_list(upper_list,'api')\n",
    "TRX.search_list(people_list,'Mridu bhatnagar')\n",
    "\n",
    "corrections.get('github', '?)\n",
    "```\n",
    "\n",
    "#### To add terms for uppercasing:\n",
    "```\n",
    "new_terms = ['nlp',]\n",
    "TRX.update_substitution_file(which='upper', user_list=new_terms)\n",
    "\n",
    "# reload & check after update:\n",
    "upper_list = TRX.readcsv(upper_fname).upper.tolist()\n",
    "TRX.search_list(upper_list, new_terms[0])\n",
    "```\n",
    "\n",
    "#### To add names (or people, places) for titlecasing:\n",
    "##### Note that adding names with apostophe will result in uppercasing of the letter following it, e.g.: \"april's fools\" => \"April'S Fools\"\n",
    "```\n",
    "new_names = ['ford foundation',]\n",
    "TRX.update_substitution_file(which='names', user_list=new_names)\n",
    "\n",
    "# reload & check after update:\n",
    "names_list = TRX.readcsv(names_fname).names.tolist()\n",
    "TRX.search_list(names_list, new_names[0])\n",
    "```\n",
    "\n",
    "#### To add an entry to the corrections dict:\n",
    "##### Only amend the corrections for entries that do not fit the upper- or titlecasing schemes, e.g.: 'whatsapp' -> 'WhatsApp'\n",
    "```\n",
    "corrections['github'] = 'GitHub'\n",
    "UTL.save_file(correct_json, corrections)\n",
    "corrections = UTL.load_file_contents(correct_json)\n",
    "```"
   ]
  },
  {
   "cell_type": "code",
   "execution_count": null,
   "metadata": {},
   "outputs": [],
   "source": []
  }
 ],
 "metadata": {
  "kernelspec": {
   "display_name": "Python 3",
   "language": "python",
   "name": "python3"
  },
  "language_info": {
   "codemirror_mode": {
    "name": "ipython",
    "version": 3
   },
   "file_extension": ".py",
   "mimetype": "text/x-python",
   "name": "python",
   "nbconvert_exporter": "python",
   "pygments_lexer": "ipython3",
   "version": "3.7.6"
  }
 },
 "nbformat": 4,
 "nbformat_minor": 4
}
