{
 "cells": [
  {
   "cell_type": "code",
   "execution_count": 1,
   "metadata": {
    "jupyter": {
     "source_hidden": true
    }
   },
   "outputs": [
    {
     "name": "stdout",
     "output_type": "stream",
     "text": [
      "Path added to sys.path: C:/Users/catch/Documents/GitHub/DU-event-transcript-demo/resources/EventManagement\n"
     ]
    }
   ],
   "source": [
    "# To get multiple outputs from one code cell (without using print()):\n",
    "from IPython.core.interactiveshell import InteractiveShell\n",
    "InteractiveShell.ast_node_interactivity = 'all'\n",
    "\n",
    "from IPython import get_ipython\n",
    "from IPython.display import HTML, Markdown, Image, Audio\n",
    "import sys\n",
    "from pathlib import Path\n",
    "import pandas as pd\n",
    "from pprint import pprint as pp\n",
    "\n",
    "# For documenting the current environment:\n",
    "def sys_info():\n",
    "    frmt = '\\nPython ver: {}\\nPython env: {}\\n'\n",
    "    frmt += 'OS:         {}\\nCurrent dir: {}\\n'\n",
    "    print(frmt.format(sys.version, \n",
    "                      Path(sys.prefix).name,\n",
    "                      sys.platform,\n",
    "                      Path.cwd()))\n",
    "\n",
    "# For enabling imports from current project code:\n",
    "def add_to_sys_path(this_path, up=False):\n",
    "    \"\"\"\n",
    "    Prepend this_path to sys.path.\n",
    "    If up=True, path refers to parent folder (1 level up).\n",
    "    \"\"\"\n",
    "    newp = Path(this_path).as_posix() # no str method (?)\n",
    "    if up:\n",
    "        newp = Path(this_path).parent.as_posix()\n",
    "\n",
    "    msg = F'Path already in sys.path: {newp}'\n",
    "    if newp not in sys.path:\n",
    "        sys.path.insert(1, newp)\n",
    "        msg = F'Path added to sys.path: {newp}'\n",
    "    print(msg)\n",
    "\n",
    "# If this ipynb file is inside a folder, eg ./notebooks, \n",
    "# the project code is assumed to reside 1 level up:\n",
    "nb_folder = 'notebooks'\n",
    "add_to_sys_path(Path.cwd(), up=Path.cwd().name.startswith(nb_folder))\n",
    "\n",
    "# For py modules/methods discovery:\n",
    "def filter_dir(mdl, filter_str=None, start_with_str='_', exclude=True):\n",
    "    \"\"\"Filter dir(mdl) for method discovery.\n",
    "       Input:\n",
    "       :param mdl (object): module, optionally with submodule path(s), e.g. mdl.submdl1.submdl2.\n",
    "       :param filter_str (str, None): filter all method names containing that string.\n",
    "       :param start_with_str (str, '_'), exclude (bool, True): start_with_str and exclude work \n",
    "              together to perform search on non-dunder methods (default).\n",
    "       Example:\n",
    "       >filter_dir(re) # lists the public methods of the re module.\n",
    "    \"\"\"\n",
    "    search_dir = [d for d in dir(mdl) if not d.startswith(start_with_str) == exclude]\n",
    "    if filter_str is None:\n",
    "        return search_dir\n",
    "    else:\n",
    "        filter_str = filter_str.lower()\n",
    "        return [d for d in search_dir if d.lower().find(filter_str) != -1]\n",
    "\n",
    "# To create often-used subfolders:\n",
    "def get_project_dirs(which=['data', 'images'],\n",
    "                     use_parent=True):\n",
    "    '''Create folder(s) named in `which` at the ipynb parent level.'''\n",
    "    if use_parent:\n",
    "        dir_fn = Path.cwd().parent.joinpath\n",
    "    else:\n",
    "        dir_fn = Path.cwd().joinpath\n",
    "        \n",
    "    dir_lst = []    \n",
    "    for d in which:\n",
    "        DIR = dir_fn(d)\n",
    "        if not DIR.exists():\n",
    "            Path.mkdir(DIR)\n",
    "        dir_lst.append(DIR)\n",
    "    return dir_lst\n",
    "\n",
    "# For adding colorfull divider in the nb:\n",
    "def add_div(div_class='info', div_start='Tip:', \n",
    "            div_text='Some tip here', output_string=True):\n",
    "    \"\"\"\n",
    "    Behaviour with default `output_string=True`:\n",
    "    The cell is overwritten with the output, but the cell mode is still 'code',\n",
    "    not 'markdown'.\n",
    "    Workaround: After running the function, click on the new cell, press ESC, \n",
    "                type 'm', then run the new cell.\n",
    "    If `output_string=False`, the output is displayed in an new cell with the \n",
    "    code cell visible.\n",
    "    ```\n",
    "    [x]\n",
    "    add_div('alert-warning', 'Tip: ', 'some tip here', output_string=True)\n",
    "    [x]\n",
    "    <div class=\"alert alert-warning\"><b>Tip: </b>some tip here</div>\n",
    "    ```\n",
    "    \"\"\"\n",
    "    accepted = ['info', 'warning', 'danger']\n",
    "    div_class = div_class.lower()\n",
    "    if div_class not in accepted:\n",
    "        msg = f'<div class=\"alert\"><b>Wrong class:&nbsp;</b> `div_start` not in: {accepted}.</div>'\n",
    "        return Markdown(msg)\n",
    "    \n",
    "    div = f\"\"\"<div class=\"alert alert-{div_class}\"><b>{div_start}&nbsp;&nbsp;</b>{div_text}</div>\"\"\"\n",
    "    if output_string:\n",
    "        return get_ipython().set_next_input(div, 'markdown')\n",
    "    else:\n",
    "        return Markdown(div)\n",
    "\n",
    "\n",
    "def new_section(title='New section'):\n",
    "    style = \"text-align:center;background:#c2d3ef;padding:16px;color:#ffffff;font-size:3em;width:98%\"\n",
    "    div = f'<div style=\"{style}\">{title}</div>'\n",
    "    #return HTML('<div style=\"{}\">{}</div>'.format(style, title))\n",
    "    return get_ipython().set_next_input(div, 'markdown')\n",
    "\n",
    "# autoreload extension\n",
    "if 'autoreload' not in get_ipython().extension_manager.loaded:\n",
    "    get_ipython().run_line_magic('load_ext', 'autoreload')\n",
    "\n",
    "%autoreload 2\n",
    "# ................."
   ]
  },
  {
   "cell_type": "code",
   "execution_count": 6,
   "metadata": {},
   "outputs": [],
   "source": [
    "import ipywidgets as ipw\n",
    "from collections import OrderedDict\n",
    "\n",
    "from manage import (EventMeta as Meta,\n",
    "                    EventTranscription as TRX,\n",
    "                    Workflow as FLO,\n",
    "                    Controls as CTR,\n",
    "                    Utils as UTL)\n",
    "\n",
    "main_readme = Meta.MAIN_README"
   ]
  },
  {
   "cell_type": "code",
   "execution_count": 27,
   "metadata": {},
   "outputs": [
    {
     "data": {
      "text/plain": [
       "WindowsPath('C:/Users/catch/Documents/GitHub/DU-event-transcript-demo/README_new.md')"
      ]
     },
     "execution_count": 27,
     "metadata": {},
     "output_type": "execute_result"
    }
   ],
   "source": [
    "main_readme"
   ]
  },
  {
   "cell_type": "raw",
   "metadata": {},
   "source": [
    "modify_page = CTR.PageControls(1).page\n",
    "modify_page"
   ]
  },
  {
   "cell_type": "raw",
   "metadata": {},
   "source": [
    "edit_page = CTR.PageControls(2).page\n",
    "edit_page"
   ]
  },
  {
   "cell_type": "raw",
   "metadata": {},
   "source": [
    "Meta.show_md_file(main_readme)"
   ]
  },
  {
   "cell_type": "raw",
   "metadata": {
    "jupyter": {
     "source_hidden": true
    }
   },
   "source": [
    "actions = OrderedDict([('Add an event',\n",
    "                         ['Enter Info','Validate','Save','Show Readme', 'Show File']),\n",
    "                        ('Modify an event',\n",
    "                         ['Modify Event','Validate','Save','Show Readme', 'Show File']),\n",
    "                        ('Edit a transcript',\n",
    "                         ['Edit Transcript','Save','Show Readme', 'Show File'])\n",
    "                       ])\n",
    "\n",
    "class AppPage:\n",
    "    def __init__(self, AppControls(actions)):\n",
    "        pass\n",
    "        \n",
    "        \n",
    "class AppControls:\n",
    "    def __init__(self, actions):\n",
    "        #save_new, save_existing, save_trx\n",
    "        self.TR = None\n",
    "        \n",
    "        # output controls first:\n",
    "        self.info_out = ipw.Output() # == right-sidebar\n",
    "        \n",
    "        self.header = self.get_app_hdr()\n",
    "        self.left_sidebar_kids_obs = self.menu_tog_sel\n",
    "        self.left_sidebar = self.get_left()\n",
    "        self.left_sidebar.observe(self.menu_selection, 'value')\n",
    "        \n",
    "        self.center = self.get_center()\n",
    "        self.center.observe(self.info_display, 'selected_index')\n",
    "        self.dl1 = ipw.dlink((self.left_sidebar, 'selected_index'),\n",
    "                             (self.center, 'selected_index'))\n",
    "        \n",
    "        self.right_sidebar = self.info_out\n",
    "        self.footer = None\n",
    "        self.pane_widths = [1, 5, 1]\n",
    "        self.pane_heights = [1, 3, 1]\n",
    "\n",
    "        self.page = ipw.AppLayout(header=self.header,\n",
    "                                  left_sidebar=self.left_sidebar,\n",
    "                                  center=self.center,\n",
    "                                  right_sidebar=self.right_sidebar,\n",
    "                                  footer=self.footer,\n",
    "                                  pane_widths=self.pane_widths,\n",
    "                                  pane_heights=self.pane_heights,\n",
    "                                  #justify_content='space-between'\n",
    "                                  )\n",
    "        setattr(self.page, 'user_dict', None)\n",
    "        setattr(self.page, 'data_dict', None)\n",
    "\n",
    "\n",
    "    def get_app_hdr(self):\n",
    "        style = \"text-align:center;padding:5px;background:#c2d3ef;\"\n",
    "        style += \"color:#ffffff;font-size:3em;\"\n",
    "        style += \"width:100%,height=50%\"\n",
    "        div = F' <div style=\"{style}\">Data Umbrella Event Management</div>'\n",
    "        hdr_html = FLO.show_du_logo_hdr(as_html=False) + div\n",
    "        return ipw.HTML(hdr_html)\n",
    "    \n",
    "    \n",
    "    def get_left(self):\n",
    "        \"\"\"\n",
    "        Create Accordion MENU with ToggleButtons children that have:\n",
    "         - a 'parent_idx' attribute\n",
    "         - observe function for ToggleButtons children\n",
    "        \"\"\"\n",
    "        acc_items = [ipw.VBox(description=k) for k in list(self.actions.keys())]\n",
    "        menu_acc = ipw.Accordion(children=acc_items,\n",
    "                                 selected_index=None)\n",
    "        for i, (k, v) in enumerate(self.actions.items()):\n",
    "            btn = ipw.ToggleButtons(options=v, value=None,\n",
    "                                    button_style='info')\n",
    "            setattr(btn, 'parent_idx', i)\n",
    "            btn.observe(self.left_sidebar_kids_obs, names='value')\n",
    "            menu_acc.children[i].children = [btn]\n",
    "            menu_acc.set_title(i, k.upper())\n",
    "        return menu_acc\n",
    "\n",
    "    \n",
    "    def get_center(self):\n",
    "        \"\"\" Create 3 Tabs for actions.\"\"\"\n",
    "        lo_tabs = ipw.Layout(display='flex',\n",
    "                             flex_flow='column',\n",
    "                             align_items='stretch',\n",
    "                             justify_content='center',\n",
    "                             width='98%')\n",
    "        tabs = ipw.Tab(selected_index=None, layout=lo_tabs)\n",
    "        \n",
    "        # Tabs from menu action:\n",
    "        ks = list(self.actions.keys()) #+ ['readme', 'file']\n",
    "        # 1st child: message output\n",
    "        tabs.children = [ipw.VBox([ipw.Output()]) for k in ks]\n",
    "        for i, k in enumerate(ks):\n",
    "            tabs.set_title(i, k.split()[0].upper())\n",
    "\n",
    "        return tabs\n",
    "\n",
    "\n",
    "    # left_sidebar.observe\n",
    "    def menu_selection(change):\n",
    "        \"\"\" \n",
    "        Synchronized center (Tabs) selection with \n",
    "        left sidebar (menu) selection.\n",
    "        \"\"\"\n",
    "        self.center.selected_index = self.left_sidebar.selected_index\n",
    "\n",
    "\n",
    "    # center.observe\n",
    "    def info_display(self, change):\n",
    "        \"\"\"Right side panel: info about selected op.\"\"\"\n",
    "        self.info_out.clear_output()\n",
    "        wgt = change['owner']\n",
    "        # Link tab selection index with info panel:\n",
    "        if wgt.selected_index is None:\n",
    "            t = 3\n",
    "        else:\n",
    "            t = wgt.selected_index\n",
    "        if t > 3:\n",
    "            return\n",
    "        event_fn = {0:'ADD', 1:'MODIFY', 2:'EDIT', 3:'INIT'}\n",
    "        which = FLO.EventFunction[event_fn[t]]\n",
    "        EF = FLO.DisplaySectionInfo(which)\n",
    "        info_val = EF.show_section_info()\n",
    "        with self.info_out:\n",
    "            display(info_val)\n",
    "   \n",
    "\n",
    "    def msg_out(self, idx, msg):\n",
    "        self.page.center.children[idx].children[0].clear_output()\n",
    "        with self.page.center.children[idx].children[0]:\n",
    "            display(msg)\n",
    "\n",
    "    \n",
    "    def validate(self, idx):\n",
    "        self.page.center.children[idx].children[0].clear_output()\n",
    "        \n",
    "        input_form = self.page.center.children[idx].children[1]\n",
    "        if idx == 1:\n",
    "            self.TR = input_form.TR\n",
    "            \n",
    "        with self.page.center.children[idx].children[0]:\n",
    "            try:\n",
    "                self.page.data_dict = FLO.validate_form_entries(input_form,\n",
    "                                                           self.page.user_dict,\n",
    "                                                           self.TR)\n",
    "                print('Validated!')\n",
    "            except:\n",
    "                print('Validation Error: Fix & Try again.')\n",
    "                \n",
    "    \n",
    "    def save_entry(self, idx):\n",
    "        #self.center.children[idx].children[0].clear_output()\n",
    "        \n",
    "        input_form = self.page.center.children[idx].children[1]\n",
    "        if idx == 1:\n",
    "            self.TR = input_form.TR\n",
    "        \n",
    "        with self.page.center.children[idx].children[0]:\n",
    "            if self.page.data_dict is None:\n",
    "                print('Validate first!')\n",
    "            return\n",
    "            if self.TR is None:\n",
    "                self.msg_out(0, 'TR object not instanciated.')\n",
    "            return\n",
    "            try:\n",
    "                self.TR.update_dict(self.page.data_dict)\n",
    "                print('Update dict: OK!')\n",
    "            except:\n",
    "                print('Update dict: Something went wrong.')\n",
    "            try:\n",
    "                self.TR.update_readme()\n",
    "                print('Update readme: OK!')\n",
    "            except:\n",
    "                print('Update readme: Something went wrong.')\n",
    "            try:\n",
    "                self.TR.save_transcript_md()\n",
    "                print('Save: OK!')\n",
    "            except:\n",
    "                if idx == 0:\n",
    "                    msg = 'Save starter transcript: Something went wrong.'\n",
    "                else:\n",
    "                    msg = 'Save transcript: Something went wrong.'\n",
    "                print(msg)\n",
    "\n",
    "\n",
    "    def save_edit(self, idx):\n",
    "        \"\"\" Save edited transcript. \"\"\"\n",
    "        self.page.center.children[idx].children[0].clear_output()\n",
    "        \n",
    "        input_form = self.page.center.children[idx].children[1]\n",
    "        self.TR = input_form.TR\n",
    "        \n",
    "        with self.page.center.children[idx].children[0]:\n",
    "            try:\n",
    "                self.TR.event_dict['status'] = input_form.status_sel.value\n",
    "                print('Got status.')\n",
    "            except:\n",
    "                print('Could not read Status.')\n",
    "            try:\n",
    "                self.TR.update_readme()\n",
    "                print('Updated README.')\n",
    "            except:\n",
    "                print('Could not update README.')\n",
    "            try:\n",
    "                self.TR.insert_md_transcript(new_trx=input_form.editarea.value)\n",
    "                print('Updated Event file.')\n",
    "            except:\n",
    "                print('Could not update Event file.')\n",
    "\n",
    "        \n",
    "    def close_file_tabs(self):\n",
    "        tabs = len(self.page.center.children)\n",
    "        if tabs > 3:\n",
    "            for t in range(3,5):\n",
    "                self.page.center.children[t].close()\n",
    "                \n",
    "    def add_file_tab(self, idx):\n",
    "        tabs = len(self.page.center.children)\n",
    "        if tabs == 5:\n",
    "            return\n",
    "        if tabs < idx:\n",
    "            self.page.center.children += (ipw.VBox([ipw.Output(), ipw.Output()]),)\n",
    "            self.page.center.set_title(3, 'README')\n",
    "            tabs = len(self.page.center.children)\n",
    "\n",
    "        if tabs == idx:\n",
    "            title = 'README' if idx == 3 else 'FILE'\n",
    "            self.page.center.children += (ipw.VBox([ipw.Output(), ipw.Output()]),)\n",
    "            self.page.center.set_title(idx, title)\n",
    "        return\n",
    "\n",
    "\n",
    "    def show_mdfile(self, idx):\n",
    "        \"\"\"Add tab for Md file. Here, idx = tab index\"\"\"\n",
    "        self.add_file_tab(idx)\n",
    "        \n",
    "        self.page.center.children[idx].children[1].clear_output()\n",
    "        if idx == 3:\n",
    "            with self.page.center.children[3].children[1]:\n",
    "                Meta.show_md_file(main_readme)\n",
    "            self.page.center.selected_index = 3\n",
    "        else:\n",
    "            input_form = self.page.center.children[4].children[1]\n",
    "            self.TR = input_form.TR\n",
    "            if self.TR is not None:\n",
    "                yr = self.page.TR.event_dict['year']\n",
    "                fname = self.page.TR.event_dict['transcript_md']\n",
    "                mdfile = Meta.REPO_PATH.joinpath(yr, fname)\n",
    "                if mdfile.exists():\n",
    "                    with self.page.center.children[4].children[1]:\n",
    "                        Meta.show_md_file(mdfile, kind='Transcript')\n",
    "                else:\n",
    "                    self.msg_out(4, F'File not found: {mdfile}.')\n",
    "            else:\n",
    "                self.msg_out(4, 'TR object not instanciated.')\n",
    "            self.page.center.selected_index = 4\n",
    "\n",
    "\n",
    "    def menu_tog_sel(self, change):\n",
    "        wgt = change['owner']\n",
    "        iparent = wgt.parent_idx\n",
    "        tog_val = wgt.value\n",
    "                                                \n",
    "        if tog_val == 'Save':\n",
    "            if iparent == 0 or iparent == 1:\n",
    "                self.save_entry(iparent)\n",
    "            else:\n",
    "                self.save_edit(iparent)\n",
    "\n",
    "        elif tog_val == 'Show Readme':\n",
    "            self.show_mdfile(3) #iparent)\n",
    "            \n",
    "        elif tog_val == 'Show File':\n",
    "            self.show_mdfile(4) #(iparent)\n",
    "            \n",
    "        elif iparent == 0:\n",
    "            if tog_val == 'Enter Info':\n",
    "                self.close_file_tabs()\n",
    "                \n",
    "                # Instanciate obj for new event:\n",
    "                self.TR = Meta.TranscriptMeta()\n",
    "                if Meta.DEMO:\n",
    "                    # demo data items\n",
    "                    user_dict = FLO.get_demo_input_dict()  \n",
    "                else:\n",
    "                    user_dict = FLO.get_new_input_flds()\n",
    "                self.page.user_dict = user_dict\n",
    "                entry_group = FLO.get_entry_accordion(self.page.user_dict)\n",
    "                # Add 2nd control in tab vbox == input_form:\n",
    "                self.page.center.children[0].children += (entry_group,)\n",
    "                \n",
    "            elif tog_val == 'Validate':\n",
    "                self.close_file_tabs()\n",
    "                self.validate(iparent)\n",
    "\n",
    "        elif iparent == 1:\n",
    "            if tog_val == 'Modify Event':\n",
    "                self.close_file_tabs()\n",
    "                \n",
    "                edit_page = CTR.PageControls(1).page\n",
    "                # Add 2nd control in tab vbox == input_form:\n",
    "                self.page.center.children[1].children += (edit_page, )\n",
    "                \n",
    "            elif tog_val == 'Validate':\n",
    "                self.close_file_tabs()\n",
    "                self.validate(iparent)\n",
    "\n",
    "        elif iparent == 2:\n",
    "            if tog_val == 'Edit Transcript':\n",
    "                self.close_file_tabs()\n",
    "                edit_page = CTR.PageControls(2).page\n",
    "                # Add 2nd control in tab vbox == input_form:\n",
    "                self.page.center.children[2].children += (edit_page, )\n",
    "        return\n",
    "\n",
    "\n",
    "    def __repr__(self):\n",
    "        from pprint import pformat\n",
    "        return pformat(self.__dict__)\n",
    "    "
   ]
  },
  {
   "cell_type": "code",
   "execution_count": 56,
   "metadata": {},
   "outputs": [],
   "source": [
    "del ap"
   ]
  },
  {
   "cell_type": "code",
   "execution_count": 214,
   "metadata": {},
   "outputs": [],
   "source": [
    "class AppControls:\n",
    "    def __init__(self):\n",
    "        self.actions = OrderedDict([('Add an event',\n",
    "                                     ['Enter Info','Validate','Save','Show Readme', 'Show File']),\n",
    "                                    ('Modify an event',\n",
    "                                     ['Modify Event','Validate','Save','Show Readme', 'Show File']),\n",
    "                                    ('Edit a transcript',\n",
    "                                     ['Edit Transcript','Save','Show Readme', 'Show File'])\n",
    "                                   ])\n",
    "        #self.TR = None\n",
    "        self.PC = None # Controls.PageControl instance\n",
    "        \n",
    "        # output controls first:\n",
    "        self.info_out = ipw.Output() # == right-sidebar\n",
    "        \n",
    "        self.left_sidebar = self.get_left()\n",
    "        self.center = self.get_center()\n",
    "        self.left_sidebar.observe(self.menu_selection, 'value')\n",
    "        \n",
    "        self.center.observe(self.info_display, 'selected_index')\n",
    "        self.dl1 = ipw.dlink((self.left_sidebar, 'selected_index'),\n",
    "                             (self.center, 'selected_index'))\n",
    "\n",
    "        self.page = ipw.AppLayout(header=self.get_app_hdr(),\n",
    "                                  left_sidebar=self.left_sidebar,\n",
    "                                  center=self.center,\n",
    "                                  right_sidebar=self.info_out,\n",
    "                                  footer=None,\n",
    "                                  pane_widths=[1, 5, 1],\n",
    "                                  pane_heights=[1, 3, 1],\n",
    "                                  #justify_content='space-between'\n",
    "                                  )\n",
    "        #setattr(self.page, 'user_dict', None)\n",
    "        setattr(self.page, 'data_dict', None)\n",
    "\n",
    "\n",
    "    def get_app_hdr(self):\n",
    "        style = \"text-align:center;padding:5px;background:#c2d3ef;\"\n",
    "        style += \"color:#ffffff;font-size:3em;\"\n",
    "        style += \"width:100%,height=50%\"\n",
    "        div = F' <div style=\"{style}\">Data Umbrella Event Management</div>'\n",
    "        hdr_html = FLO.show_du_logo_hdr(as_html=False) + div\n",
    "        return ipw.HTML(hdr_html)\n",
    "\n",
    "\n",
    "    def get_center(self):\n",
    "        \"\"\" Create 3 Tabs for actions.\"\"\"\n",
    "        lo_tabs = ipw.Layout(display='flex',\n",
    "                             flex_flow='column',\n",
    "                             align_items='stretch',\n",
    "                             justify_content='center',\n",
    "                             width='98%')\n",
    "        tabs = ipw.Tab(selected_index=None, layout=lo_tabs)\n",
    "        # Tabs from menu action:\n",
    "        ks = list(self.actions.keys()) + ['readme', 'file']\n",
    "        # 1st child: message output\n",
    "        tabs.children = [ipw.VBox([ipw.Output()]) for k in ks]\n",
    "        for i, k in enumerate(ks):\n",
    "            tabs.set_title(i, k.split()[0].upper())\n",
    "        return tabs\n",
    "\n",
    "    \n",
    "    def get_left(self):\n",
    "        \"\"\"\n",
    "        Create Accordion MENU with VBox for actions.keys as children.\n",
    "        Populate Accordion MENU with ToggleButtons children that have:\n",
    "         - a 'parent_idx' attribute\n",
    "         - observe function for ToggleButtons children\n",
    "        \"\"\"\n",
    "        acc_items = [ipw.VBox(description=k) for k in list(self.actions.keys())]\n",
    "        menu_acc = ipw.Accordion(children=acc_items,\n",
    "                                 selected_index=None)\n",
    "        for i, (k, v) in enumerate(self.actions.items()):\n",
    "            btn = ipw.ToggleButtons(options=v, value=None,\n",
    "                                    button_style='info')\n",
    "            setattr(btn, 'parent_idx', i)\n",
    "            btn.observe(self.menu_tog_sel, names='value')\n",
    "            menu_acc.children[i].children = [btn]\n",
    "            menu_acc.set_title(i, k.upper())\n",
    "        return menu_acc\n",
    "    \n",
    "    \n",
    "    # left_sidebar.observe\n",
    "    def menu_selection(change):\n",
    "        \"\"\" \n",
    "        Synchronized center (Tabs) selection with \n",
    "        left sidebar (menu) selection.\n",
    "        \"\"\"\n",
    "        self.center.selected_index = self.left_sidebar.selected_index\n",
    "\n",
    "\n",
    "    # center.observe\n",
    "    def info_display(self, change):\n",
    "        \"\"\"Right side panel: info about selected op.\"\"\"\n",
    "        self.page.right_sidebar.clear_output()\n",
    "        wgt = change['owner']\n",
    "        # Link tab selection index with info panel:\n",
    "        if wgt.selected_index is None:\n",
    "            t = 3\n",
    "        else:\n",
    "            t = wgt.selected_index\n",
    "        if t > 3:\n",
    "            return\n",
    "        event_fn = {0:'ADD', 1:'MODIFY', 2:'EDIT', 3:'INIT'}\n",
    "        which = FLO.EventFunction[event_fn[t]]\n",
    "        EF = FLO.DisplaySectionInfo(which)\n",
    "        info_val = EF.show_section_info()\n",
    "        with self.page.right_sidebar:\n",
    "            display(info_val)\n",
    "   \n",
    "\n",
    "    def msg_out(self, idx, msg):\n",
    "        self.center.children[idx].children[0].clear_output()\n",
    "        with self.center.children[idx].children[0]:\n",
    "            display(msg)\n",
    "\n",
    "    \n",
    "    def validate(self, idx):\n",
    "        self.center.children[idx].children[0].clear_output()\n",
    "        \n",
    "        input_form = self.PC.page.children[1]\n",
    "        with self.center.children[idx].children[0]:\n",
    "            try:\n",
    "                self.page.data_dict = FLO.validate_form_entries(input_form,\n",
    "                                                           self.PC.page.user_dict,\n",
    "                                                           self.PC.TR)\n",
    "                print('Validated!')\n",
    "            except:\n",
    "                print('Validation Error: Fix & Try again.')\n",
    "                \n",
    "    \n",
    "    def save_entry(self, idx):\n",
    "        self.center.children[idx].children[0].clear_output()\n",
    "        \n",
    "        with self.center.children[idx].children[0]:\n",
    "            if self.page.data_dict is None:\n",
    "                print('Validate first!')\n",
    "                return\n",
    "            if self.PC.TR is None:\n",
    "                print('TR object not instanciated.')\n",
    "                return\n",
    "            try:\n",
    "                self.PC.TR.update_dict(self.page.data_dict)\n",
    "                print('Update dict: OK!')\n",
    "            except:\n",
    "                print('Update dict: Something went wrong.')\n",
    "                return\n",
    "            try:\n",
    "                self.PC.TR.update_readme()\n",
    "                print('Update readme: OK!')\n",
    "            except:\n",
    "                print('Update readme: Something went wrong.')\n",
    "                return\n",
    "            try:\n",
    "                self.PC.TR.save_transcript_md()\n",
    "                print('Save: OK!')\n",
    "                #if idx == 1:\n",
    "                #    self.PC.page.children[0].children[1].children[1].disabled = False\n",
    "            except:\n",
    "                if idx == 0:\n",
    "                    msg = 'Save starter transcript: Something went wrong.'\n",
    "                else:\n",
    "                    msg = 'Save transcript: Something went wrong.'\n",
    "                print(msg)\n",
    "\n",
    "\n",
    "    def save_edit(self, idx):\n",
    "        \"\"\" Save edited transcript. \"\"\"\n",
    "        self.center.children[idx].children[0].clear_output()\n",
    "\n",
    "        with self.center.children[idx].children[0]:\n",
    "            if self.PC.transcriber_txt.value == '?':\n",
    "                print(\"'?' is not a good name!\")\n",
    "            try:\n",
    "                upd = self.PC.initial_status != self.PC.status_sel.value\n",
    "                upd = upd or (self.PC.initial_transcriber != self.PC.transcriber_txt.value)\n",
    "                if upd:\n",
    "                    self.PC.TR.event_dict['status'] = self.PC.status_sel.value\n",
    "                    self.PC.TR.event_dict['transcriber'] = self.transcriber_txt.value\n",
    "                    self.PC.TR.update_readme()\n",
    "                    print('Updated README.')\n",
    "            except:\n",
    "                print('Could not update README.')\n",
    "                return\n",
    "            try:\n",
    "                #self.PC.TR.insert_md_transcript(new_trx=self.PC.editarea.value)\n",
    "                self.PC.TR.save_transcript_md(new_trx=self.PC.editarea.value)\n",
    "                self.PC.page.children[0].children[1].children[3].children[0].disabled = False\n",
    "                self.PC.editarea.value = ''\n",
    "                print('Updated Event file.')\n",
    "            except:\n",
    "                print('Could not update Event file.')\n",
    "\n",
    "        \n",
    "    def close_file_tabs(self):\n",
    "        tabs = len(self.center.children)\n",
    "        if tabs > 3:\n",
    "            for t in range(3,5):\n",
    "                self.center.children[t].close()\n",
    "\n",
    "\n",
    "    def add_file_tab0(self, idx):\n",
    "        tabs = len(self.center.children)\n",
    "        if tabs < 5:\n",
    "            if tabs < idx:\n",
    "                self.center.children += (ipw.VBox([ipw.Output(), ipw.Output()]),)\n",
    "                self.center.set_title(3, 'README')\n",
    "                tabs = len(self.center.children)\n",
    "\n",
    "            if tabs == idx:\n",
    "                title = 'README' if idx == 3 else 'FILE'\n",
    "                self.center.children += (ipw.VBox([ipw.Output(), ipw.Output()]),)\n",
    "                self.center.set_title(idx, title)\n",
    "\n",
    "\n",
    "    def show_mdfile(self, iparent, idx):\n",
    "        \"\"\"Add tab for Md file. Here, idx = tab index\"\"\"\n",
    "        #self.add_file_tab(idx)\n",
    "        # Add 2nd Output for the file:\n",
    "        if len(self.center.children[idx].children) == 1:\n",
    "            self.center.children[idx].children += (ipw.Output(),)\n",
    "        \n",
    "        self.center.children[idx].children[1].clear_output()\n",
    "        if idx == 3:\n",
    "            with self.center.children[3].children[1]:\n",
    "                Meta.show_md_file(main_readme)\n",
    "            self.center.selected_index = 3\n",
    "        else:\n",
    "            self.center.selected_index = 4\n",
    "            #input_form = self.center.children[iparent].children[1]\n",
    "            #self.TR = input_form.TR\n",
    "            if self.PC.TR is not None:\n",
    "                yr = self.PC.TR.event_dict['year']\n",
    "                fname = self.PC.TR.event_dict['transcript_md']\n",
    "                mdfile = Meta.REPO_PATH.joinpath(yr, fname)\n",
    "                if mdfile.exists():\n",
    "                    with self.center.children[4].children[1]:\n",
    "                        Meta.show_md_file(mdfile, kind='Transcript')\n",
    "                else:\n",
    "                    self.msg_out(4, F'File not found: {mdfile}.')\n",
    "            else:\n",
    "                self.msg_out(4, 'PageControls.TR object not instanciated.')\n",
    "\n",
    "\n",
    "    def menu_tog_sel(self, change):\n",
    "        wgt = change['owner']\n",
    "        iparent = wgt.parent_idx\n",
    "        tog_val = wgt.value\n",
    "\n",
    "        if iparent == 0:\n",
    "            #self.close_file_tabs()\n",
    "            #self.TR = None #reset?\n",
    "            if tog_val == 'Enter Info':\n",
    "                self.PC = CTR.PageControls(0)\n",
    "                entry_group = self.PC.page\n",
    "                # Add 2nd control in tab vbox == input_form:\n",
    "                self.center.children[0].children += (entry_group,)\n",
    "                \n",
    "            elif tog_val == 'Validate':\n",
    "                self.validate(iparent)\n",
    "            elif tog_val == 'Save':\n",
    "                self.save_entry(iparent)\n",
    "            elif tog_val == 'Show Readme':\n",
    "                self.show_mdfile(iparent, 3)\n",
    "            elif tog_val == 'Show File':\n",
    "                self.show_mdfile(iparent, 4)\n",
    "\n",
    "        elif iparent == 1:\n",
    "            #self.close_file_tabs()\n",
    "            if tog_val == 'Modify Event':\n",
    "                self.PC = CTR.PageControls(1)\n",
    "                edit_page = self.PC.page\n",
    "                # Add 2nd control in tab vbox == input_form:\n",
    "                self.center.children[1].children += (edit_page, )\n",
    "            elif tog_val == 'Validate':\n",
    "                self.validate(iparent)\n",
    "            elif tog_val == 'Save':\n",
    "                self.save_entry(iparent)\n",
    "            elif tog_val == 'Show Readme':\n",
    "                self.show_mdfile(iparent, 3)\n",
    "            elif tog_val == 'Show File':\n",
    "                self.show_mdfile(iparent, 4)\n",
    "\n",
    "        elif iparent == 2:\n",
    "            #self.close_file_tabs()\n",
    "            if tog_val == 'Edit Transcript':\n",
    "                self.PC = CTR.PageControls(2)\n",
    "                edit_page = self.PC.page\n",
    "                # Add 2nd control in tab vbox == input_form:\n",
    "                self.center.children[2].children += (edit_page, )\n",
    "            elif tog_val == 'Save':\n",
    "                self.save_edit(iparent)\n",
    "            elif tog_val == 'Show Readme':\n",
    "                self.show_mdfile(iparent, 3)\n",
    "            elif tog_val == 'Show File':\n",
    "                self.show_mdfile(iparent, 4)\n",
    "\n",
    "\n",
    "    def __repr__(self):\n",
    "        from pprint import pformat\n",
    "        return pformat(self.__dict__)\n",
    "    "
   ]
  },
  {
   "cell_type": "code",
   "execution_count": 215,
   "metadata": {},
   "outputs": [
    {
     "data": {
      "application/vnd.jupyter.widget-view+json": {
       "model_id": "1a256eeef9964c9cab04ba1ed677aa06",
       "version_major": 2,
       "version_minor": 0
      },
      "text/plain": [
       "AppLayout(children=(HTML(value='<div style=\"text-align:center;padding:5px;width:98%\"><a href=\"https://www.data…"
      ]
     },
     "metadata": {},
     "output_type": "display_data"
    }
   ],
   "source": [
    "ap = AppControls()\n",
    "ap.page"
   ]
  },
  {
   "cell_type": "code",
   "execution_count": 209,
   "metadata": {},
   "outputs": [
    {
     "data": {
      "text/plain": [
       "True"
      ]
     },
     "execution_count": 209,
     "metadata": {},
     "output_type": "execute_result"
    },
    {
     "data": {
      "text/plain": [
       "True"
      ]
     },
     "execution_count": 209,
     "metadata": {},
     "output_type": "execute_result"
    }
   ],
   "source": [
    "ap.PC.page.children[0].children[1].children[3].children[0].disabled\n",
    "ap.center.children[2].children[1].children[0].children[1].children[3].children[0].disabled"
   ]
  },
  {
   "cell_type": "code",
   "execution_count": 176,
   "metadata": {},
   "outputs": [
    {
     "ename": "IndexError",
     "evalue": "tuple index out of range",
     "output_type": "error",
     "traceback": [
      "\u001b[1;31m---------------------------------------------------------------------------\u001b[0m",
      "\u001b[1;31mIndexError\u001b[0m                                Traceback (most recent call last)",
      "\u001b[1;32m<ipython-input-176-527991a1134a>\u001b[0m in \u001b[0;36m<module>\u001b[1;34m\u001b[0m\n\u001b[1;32m----> 1\u001b[1;33m data_dict = FLO.validate_form_entries(ap.PC.page.children[1],\n\u001b[0m\u001b[0;32m      2\u001b[0m                                       \u001b[0map\u001b[0m\u001b[1;33m.\u001b[0m\u001b[0mpage\u001b[0m\u001b[1;33m.\u001b[0m\u001b[0muser_dict\u001b[0m\u001b[1;33m,\u001b[0m\u001b[1;33m\u001b[0m\u001b[1;33m\u001b[0m\u001b[0m\n\u001b[0;32m      3\u001b[0m                                       ap.PC.TR)\n",
      "\u001b[1;31mIndexError\u001b[0m: tuple index out of range"
     ]
    }
   ],
   "source": [
    "data_dict = FLO.validate_form_entries(ap.PC.page.children[1],\n",
    "                                      ap.page.user_dict,\n",
    "                                      ap.PC.TR)"
   ]
  },
  {
   "cell_type": "code",
   "execution_count": 154,
   "metadata": {},
   "outputs": [
    {
     "data": {
      "text/plain": [
       "4"
      ]
     },
     "execution_count": 154,
     "metadata": {},
     "output_type": "execute_result"
    },
    {
     "data": {
      "text/plain": [
       "(0, ipywidgets.widgets.widget_string.HTML)"
      ]
     },
     "execution_count": 154,
     "metadata": {},
     "output_type": "execute_result"
    },
    {
     "data": {
      "text/plain": [
       "(1, ipywidgets.widgets.widget_selectioncontainer.Accordion)"
      ]
     },
     "execution_count": 154,
     "metadata": {},
     "output_type": "execute_result"
    },
    {
     "data": {
      "text/plain": [
       "(2, ipywidgets.widgets.widget_output.Output)"
      ]
     },
     "execution_count": 154,
     "metadata": {},
     "output_type": "execute_result"
    },
    {
     "data": {
      "text/plain": [
       "(3, ipywidgets.widgets.widget_selectioncontainer.Tab)"
      ]
     },
     "execution_count": 154,
     "metadata": {},
     "output_type": "execute_result"
    }
   ],
   "source": [
    "kids = len(ap.page.children)\n",
    "kids\n",
    "for k in range(kids):\n",
    "    k, type(ap.page.children[k])"
   ]
  },
  {
   "cell_type": "code",
   "execution_count": 147,
   "metadata": {},
   "outputs": [
    {
     "data": {
      "text/plain": [
       "ipywidgets.widgets.widget_output.Output"
      ]
     },
     "execution_count": 147,
     "metadata": {},
     "output_type": "execute_result"
    },
    {
     "data": {
      "text/plain": [
       "(ipywidgets.widgets.widget_box.VBox, 3)"
      ]
     },
     "execution_count": 147,
     "metadata": {},
     "output_type": "execute_result"
    }
   ],
   "source": [
    "type(ap.page.center.children[2].children[0])\n",
    "type(ap.page.center.children[2].children[1]), len(ap.page.center.children[2].children[1].children)"
   ]
  },
  {
   "cell_type": "code",
   "execution_count": 148,
   "metadata": {},
   "outputs": [
    {
     "data": {
      "text/plain": [
       "ipywidgets.widgets.widget_box.VBox"
      ]
     },
     "execution_count": 148,
     "metadata": {},
     "output_type": "execute_result"
    },
    {
     "data": {
      "text/plain": [
       "ipywidgets.widgets.widget_string.HTML"
      ]
     },
     "execution_count": 148,
     "metadata": {},
     "output_type": "execute_result"
    },
    {
     "data": {
      "text/plain": [
       "ipywidgets.widgets.widget_string.Textarea"
      ]
     },
     "execution_count": 148,
     "metadata": {},
     "output_type": "execute_result"
    }
   ],
   "source": [
    "type(ap.page.center.children[2].children[1].children[0])\n",
    "type(ap.page.center.children[2].children[1].children[1])\n",
    "type(ap.page.center.children[2].children[1].children[2])"
   ]
  },
  {
   "cell_type": "code",
   "execution_count": 126,
   "metadata": {},
   "outputs": [
    {
     "data": {
      "text/plain": [
       "ipywidgets.widgets.widget_string.HTML"
      ]
     },
     "execution_count": 126,
     "metadata": {},
     "output_type": "execute_result"
    }
   ],
   "source": [
    "input_form = ap.center.children[2].children[1].children[1]\n",
    "type(input_form )"
   ]
  },
  {
   "cell_type": "code",
   "execution_count": 127,
   "metadata": {},
   "outputs": [
    {
     "data": {
      "text/plain": [
       "'Not yet processed (editor needed)'"
      ]
     },
     "execution_count": 127,
     "metadata": {},
     "output_type": "execute_result"
    }
   ],
   "source": [
    "ap.PC.status_sel.value"
   ]
  },
  {
   "cell_type": "code",
   "execution_count": 114,
   "metadata": {},
   "outputs": [
    {
     "data": {
      "text/plain": [
       "('2021', '21')"
      ]
     },
     "execution_count": 114,
     "metadata": {},
     "output_type": "execute_result"
    },
    {
     "data": {
      "text/plain": [
       "('Not yet processed (editor needed)', True)"
      ]
     },
     "execution_count": 114,
     "metadata": {},
     "output_type": "execute_result"
    }
   ],
   "source": [
    "ap.PC.TR.event_dict['year'], ap.PC.TR.event_dict['idn']\n",
    "ap.PC.TR.event_dict['status'], ap.PC.TR.event_dict['has_transcript']"
   ]
  },
  {
   "cell_type": "code",
   "execution_count": 117,
   "metadata": {},
   "outputs": [
    {
     "data": {
      "text/plain": [
       "WindowsPath('C:/Users/catch/Documents/GitHub/DU-event-transcript-demo/resources/EventManagement/data/meta/2021_21_MHAjCcBfT_A.mp4')"
      ]
     },
     "execution_count": 117,
     "metadata": {},
     "output_type": "execute_result"
    },
    {
     "data": {
      "text/plain": [
       "'\\n<iframe width=\"560\" height=\"315\" \\n        src=\"https://www.youtube-nocookie.com/embed/MHAjCcBfT_A?cc_load_policy=1&autoplay=0\" \\n        frameborder=\"0\">\\n</iframe>\\n'"
      ]
     },
     "execution_count": 117,
     "metadata": {},
     "output_type": "execute_result"
    }
   ],
   "source": [
    "ap.PC.TR.event_dict['audio_track']\n",
    "ap.PC.TR.event_dict['video_embed']"
   ]
  },
  {
   "cell_type": "raw",
   "metadata": {},
   "source": [
    "trx_text = ap.PC.TR.get_transcript_text()\n",
    "len(trx_text)\n",
    "lo_ta = ipw.Layout(display='flex',flex_flow='column',width='100%', height='500px')\n",
    "ipw.Textarea(value=trx_text, layout=lo_ta)"
   ]
  },
  {
   "cell_type": "code",
   "execution_count": 134,
   "metadata": {},
   "outputs": [
    {
     "data": {
      "text/plain": [
       "ipywidgets.widgets.widget_box.VBox"
      ]
     },
     "execution_count": 134,
     "metadata": {},
     "output_type": "execute_result"
    }
   ],
   "source": [
    "type(ap.center.children[2].children[1])"
   ]
  },
  {
   "cell_type": "code",
   "execution_count": 64,
   "metadata": {},
   "outputs": [
    {
     "data": {
      "text/plain": [
       "2"
      ]
     },
     "execution_count": 64,
     "metadata": {},
     "output_type": "execute_result"
    },
    {
     "data": {
      "text/plain": [
       "ipywidgets.widgets.widget_output.Output"
      ]
     },
     "execution_count": 64,
     "metadata": {},
     "output_type": "execute_result"
    },
    {
     "data": {
      "text/plain": [
       "ipywidgets.widgets.widget_output.Output"
      ]
     },
     "execution_count": 64,
     "metadata": {},
     "output_type": "execute_result"
    }
   ],
   "source": [
    "i = 4\n",
    "len(ap.page.center.children[i].children)\n",
    "type(ap.page.center.children[i].children[0])\n",
    "type(ap.page.center.children[i].children[1])"
   ]
  },
  {
   "cell_type": "code",
   "execution_count": 65,
   "metadata": {},
   "outputs": [
    {
     "data": {
      "application/vnd.jupyter.widget-view+json": {
       "model_id": "829d82f1ceab48c2a22f02a9bd59df8c",
       "version_major": 2,
       "version_minor": 0
      },
      "text/plain": [
       "Output()"
      ]
     },
     "metadata": {},
     "output_type": "display_data"
    }
   ],
   "source": [
    "display(ap.page.center.children[i].children[1])"
   ]
  },
  {
   "cell_type": "code",
   "execution_count": 47,
   "metadata": {},
   "outputs": [],
   "source": [
    "ap.page.center.children += (ipw.VBox([ipw.Output(), ipw.Output()]),)\n",
    "ap.page.center.selected_index = 3"
   ]
  },
  {
   "cell_type": "code",
   "execution_count": 73,
   "metadata": {},
   "outputs": [
    {
     "data": {
      "text/plain": [
       "1"
      ]
     },
     "execution_count": 73,
     "metadata": {},
     "output_type": "execute_result"
    }
   ],
   "source": [
    "len(ap.page.center.children[1].children)"
   ]
  },
  {
   "cell_type": "code",
   "execution_count": 68,
   "metadata": {},
   "outputs": [],
   "source": [
    "ap.show_mdfile(3)"
   ]
  },
  {
   "cell_type": "raw",
   "metadata": {},
   "source": [
    "type(ap.page.header)\n",
    "ap.page.header.value"
   ]
  },
  {
   "cell_type": "code",
   "execution_count": 26,
   "metadata": {},
   "outputs": [
    {
     "data": {
      "text/plain": [
       "ipywidgets.widgets.widget_selectioncontainer.Accordion"
      ]
     },
     "execution_count": 26,
     "metadata": {},
     "output_type": "execute_result"
    },
    {
     "data": {
      "text/plain": [
       "2"
      ]
     },
     "execution_count": 26,
     "metadata": {},
     "output_type": "execute_result"
    }
   ],
   "source": [
    "type(ap.page.left_sidebar)\n",
    "ap.page.left_sidebar.selected_index"
   ]
  },
  {
   "cell_type": "code",
   "execution_count": 69,
   "metadata": {},
   "outputs": [
    {
     "data": {
      "text/plain": [
       "3"
      ]
     },
     "execution_count": 69,
     "metadata": {},
     "output_type": "execute_result"
    },
    {
     "data": {
      "text/plain": [
       "ipywidgets.widgets.widget_box.VBox"
      ]
     },
     "execution_count": 69,
     "metadata": {},
     "output_type": "execute_result"
    },
    {
     "name": "stdout",
     "output_type": "stream",
     "text": [
      "kids: 2\n"
     ]
    },
    {
     "data": {
      "text/plain": [
       "ipywidgets.widgets.widget_output.Output"
      ]
     },
     "execution_count": 69,
     "metadata": {},
     "output_type": "execute_result"
    },
    {
     "data": {
      "text/plain": [
       "ipywidgets.widgets.widget_output.Output"
      ]
     },
     "execution_count": 69,
     "metadata": {},
     "output_type": "execute_result"
    }
   ],
   "source": [
    "i = ap.page.center.selected_index\n",
    "i\n",
    "type(ap.page.center.children[i])\n",
    "kids = len(ap.page.center.children[i].children)\n",
    "print('kids:', kids)\n",
    "type(ap.page.center.children[i].children[0])\n",
    "if kids > 1:\n",
    "    type(ap.page.center.children[i].children[1])"
   ]
  },
  {
   "cell_type": "code",
   "execution_count": 16,
   "metadata": {},
   "outputs": [
    {
     "data": {
      "text/plain": [
       "26"
      ]
     },
     "execution_count": 16,
     "metadata": {},
     "output_type": "execute_result"
    },
    {
     "data": {
      "text/plain": [
       "'22'"
      ]
     },
     "execution_count": 16,
     "metadata": {},
     "output_type": "execute_result"
    }
   ],
   "source": [
    "len(ap.page.data_dict.keys())\n",
    "ap.TR.event_dict['idn']"
   ]
  },
  {
   "cell_type": "code",
   "execution_count": 13,
   "metadata": {},
   "outputs": [],
   "source": [
    "if ap.TR is not None:\n",
    "    ap.save_entry(0)\n",
    "else:\n",
    "    self.msg_out(0, 'TR object not instanciated.')"
   ]
  },
  {
   "cell_type": "code",
   "execution_count": 15,
   "metadata": {},
   "outputs": [
    {
     "data": {
      "text/plain": [
       "'22'"
      ]
     },
     "execution_count": 15,
     "metadata": {},
     "output_type": "execute_result"
    }
   ],
   "source": [
    "\n",
    "#ap.TR.update_dict(ap.page.data_dict)\n",
    "#ap.TR.update_readme()\n",
    "#ap.TR.save_transcript_md()"
   ]
  },
  {
   "cell_type": "code",
   "execution_count": 17,
   "metadata": {},
   "outputs": [
    {
     "ename": "IndexError",
     "evalue": "tuple index out of range",
     "output_type": "error",
     "traceback": [
      "\u001b[1;31m---------------------------------------------------------------------------\u001b[0m",
      "\u001b[1;31mIndexError\u001b[0m                                Traceback (most recent call last)",
      "\u001b[1;32m<ipython-input-17-38e05b9ad6e1>\u001b[0m in \u001b[0;36m<module>\u001b[1;34m\u001b[0m\n\u001b[1;32m----> 1\u001b[1;33m \u001b[1;32mif\u001b[0m \u001b[0mlen\u001b[0m\u001b[1;33m(\u001b[0m\u001b[0map\u001b[0m\u001b[1;33m.\u001b[0m\u001b[0mpage\u001b[0m\u001b[1;33m.\u001b[0m\u001b[0mcenter\u001b[0m\u001b[1;33m.\u001b[0m\u001b[0mchildren\u001b[0m\u001b[1;33m[\u001b[0m\u001b[1;36m3\u001b[0m\u001b[1;33m]\u001b[0m\u001b[1;33m.\u001b[0m\u001b[0mchildren\u001b[0m\u001b[1;33m)\u001b[0m \u001b[1;33m==\u001b[0m \u001b[1;36m1\u001b[0m\u001b[1;33m:\u001b[0m\u001b[1;33m\u001b[0m\u001b[1;33m\u001b[0m\u001b[0m\n\u001b[0m\u001b[0;32m      2\u001b[0m     \u001b[1;31m# Add an Output as 1st vbx item:\u001b[0m\u001b[1;33m\u001b[0m\u001b[1;33m\u001b[0m\u001b[1;33m\u001b[0m\u001b[0m\n\u001b[0;32m      3\u001b[0m     \u001b[0map\u001b[0m\u001b[1;33m.\u001b[0m\u001b[0mpage\u001b[0m\u001b[1;33m.\u001b[0m\u001b[0mcenter\u001b[0m\u001b[1;33m.\u001b[0m\u001b[0mchildren\u001b[0m\u001b[1;33m[\u001b[0m\u001b[1;36m3\u001b[0m\u001b[1;33m]\u001b[0m\u001b[1;33m.\u001b[0m\u001b[0mchildren\u001b[0m \u001b[1;33m+=\u001b[0m \u001b[1;33m(\u001b[0m\u001b[0mipw\u001b[0m\u001b[1;33m.\u001b[0m\u001b[0mOutput\u001b[0m\u001b[1;33m(\u001b[0m\u001b[1;33m)\u001b[0m\u001b[1;33m,\u001b[0m \u001b[1;33m)\u001b[0m\u001b[1;33m\u001b[0m\u001b[1;33m\u001b[0m\u001b[0m\n\u001b[0;32m      4\u001b[0m \u001b[1;33m\u001b[0m\u001b[0m\n\u001b[0;32m      5\u001b[0m \u001b[1;32mwith\u001b[0m \u001b[0map\u001b[0m\u001b[1;33m.\u001b[0m\u001b[0mpage\u001b[0m\u001b[1;33m.\u001b[0m\u001b[0mcenter\u001b[0m\u001b[1;33m.\u001b[0m\u001b[0mchildren\u001b[0m\u001b[1;33m[\u001b[0m\u001b[1;36m3\u001b[0m\u001b[1;33m]\u001b[0m\u001b[1;33m.\u001b[0m\u001b[0mchildren\u001b[0m\u001b[1;33m[\u001b[0m\u001b[1;36m1\u001b[0m\u001b[1;33m]\u001b[0m\u001b[1;33m:\u001b[0m\u001b[1;33m\u001b[0m\u001b[1;33m\u001b[0m\u001b[0m\n",
      "\u001b[1;31mIndexError\u001b[0m: tuple index out of range"
     ]
    }
   ],
   "source": [
    "if len(ap.page.center.children[3].children) == 1:\n",
    "    # Add an Output as 1st vbx item:\n",
    "    ap.page.center.children[3].children += (ipw.Output(), )\n",
    "    \n",
    "with ap.page.center.children[3].children[1]:\n",
    "        Meta.show_md_file(main_readme)\n",
    "    "
   ]
  },
  {
   "cell_type": "markdown",
   "metadata": {},
   "source": [
    "# idn selection box:"
   ]
  },
  {
   "cell_type": "code",
   "execution_count": 99,
   "metadata": {},
   "outputs": [
    {
     "data": {
      "text/html": [
       "<div>\n",
       "<style scoped>\n",
       "    .dataframe tbody tr th:only-of-type {\n",
       "        vertical-align: middle;\n",
       "    }\n",
       "\n",
       "    .dataframe tbody tr th {\n",
       "        vertical-align: top;\n",
       "    }\n",
       "\n",
       "    .dataframe thead th {\n",
       "        text-align: right;\n",
       "    }\n",
       "</style>\n",
       "<table border=\"1\" class=\"dataframe\">\n",
       "  <thead>\n",
       "    <tr style=\"text-align: right;\">\n",
       "      <th></th>\n",
       "      <th>N</th>\n",
       "      <th>Speaker</th>\n",
       "      <th>Talk Transcript</th>\n",
       "      <th>Transcriber</th>\n",
       "      <th>Status</th>\n",
       "      <th>Notes</th>\n",
       "      <th>year</th>\n",
       "      <th>name</th>\n",
       "    </tr>\n",
       "  </thead>\n",
       "  <tbody>\n",
       "    <tr>\n",
       "      <th>22</th>\n",
       "      <td>23</td>\n",
       "      <td>N.A.</td>\n",
       "      <td>[N.A.](2021/N.A.)</td>\n",
       "      <td>?</td>\n",
       "      <td>Not yet processed (editor needed)</td>\n",
       "      <td></td>\n",
       "      <td>2021</td>\n",
       "      <td>N.A.</td>\n",
       "    </tr>\n",
       "    <tr>\n",
       "      <th>23</th>\n",
       "      <td>23</td>\n",
       "      <td>N.A.</td>\n",
       "      <td>[N.A.](2021/N.A.)</td>\n",
       "      <td>?</td>\n",
       "      <td>Not yet processed (editor needed)</td>\n",
       "      <td></td>\n",
       "      <td>2021</td>\n",
       "      <td>N.A.</td>\n",
       "    </tr>\n",
       "    <tr>\n",
       "      <th>24</th>\n",
       "      <td>23</td>\n",
       "      <td>N.A.</td>\n",
       "      <td>[N.A.](2021/N.A.)</td>\n",
       "      <td>?</td>\n",
       "      <td>Not yet processed (editor needed)</td>\n",
       "      <td></td>\n",
       "      <td>2021</td>\n",
       "      <td>N.A.</td>\n",
       "    </tr>\n",
       "    <tr>\n",
       "      <th>25</th>\n",
       "      <td>23</td>\n",
       "      <td>N.A.</td>\n",
       "      <td>[N.A.](2021/N.A.)</td>\n",
       "      <td>?</td>\n",
       "      <td>Not yet processed (editor needed)</td>\n",
       "      <td></td>\n",
       "      <td>2021</td>\n",
       "      <td>N.A.</td>\n",
       "    </tr>\n",
       "  </tbody>\n",
       "</table>\n",
       "</div>"
      ],
      "text/plain": [
       "     N Speaker    Talk Transcript Transcriber  \\\n",
       "22  23    N.A.  [N.A.](2021/N.A.)           ?   \n",
       "23  23    N.A.  [N.A.](2021/N.A.)           ?   \n",
       "24  23    N.A.  [N.A.](2021/N.A.)           ?   \n",
       "25  23    N.A.  [N.A.](2021/N.A.)           ?   \n",
       "\n",
       "                               Status Notes  year  name  \n",
       "22  Not yet processed (editor needed)        2021  N.A.  \n",
       "23  Not yet processed (editor needed)        2021  N.A.  \n",
       "24  Not yet processed (editor needed)        2021  N.A.  \n",
       "25  Not yet processed (editor needed)        2021  N.A.  "
      ]
     },
     "execution_count": 99,
     "metadata": {},
     "output_type": "execute_result"
    }
   ],
   "source": [
    "df, empty_last_row, delims = Meta.df_from_readme_tbl()\n",
    "df.tail(4)"
   ]
  },
  {
   "cell_type": "raw",
   "metadata": {
    "jupyter": {
     "source_hidden": true
    }
   },
   "source": [
    "global TR\n",
    "#TR = None\n",
    "\n",
    "def get_edit_page():\n",
    "    \n",
    "    df, empty_last_row, delims = Meta.df_from_readme_tbl()\n",
    "    status_opts = [s.value for s in Meta.TrStatus][:-1]\n",
    "    yrs = df[2:].year.unique().tolist()\n",
    "    idns = df[2:].N.sort_values(ascending=False).values.tolist()\n",
    "\n",
    "    load_btn_out = ipw.Output()\n",
    "    idn_sel_out = ipw.Output()\n",
    "    with idn_sel_out:\n",
    "        print('< year / file >')\n",
    "    \n",
    "    @load_btn_out.capture(clear_output=True)\n",
    "    def load_btn_click(b):\n",
    "        global TR\n",
    "\n",
    "        ta_layout = ipw.Layout(display='flex',\n",
    "                               flex_flow='column',\n",
    "                               width='90%', height='500px')\n",
    "        try:\n",
    "            TR = Meta.TranscriptMeta(idn_sel.value, yr_sel.value)\n",
    "\n",
    "            status_sel.disabled=False\n",
    "            status = TR.event_dict['status']\n",
    "            status_sel.value = status if status in status_opts else status_opts[-1]\n",
    "\n",
    "            trx_text = TR.get_transcript_text()\n",
    "\n",
    "            if av_radio.value == 'Audio':\n",
    "                #local file:\n",
    "                track = TR.event_dict['audio_track']\n",
    "                AV = ipw.Audio().from_file(track, autoplay=False)\n",
    "            else:\n",
    "                AV = ipw.HTML(value=TR.event_dict['video_embed'])\n",
    "\n",
    "            editarea = ipw.Textarea(value=trx_text,\n",
    "                                    layout=ta_layout)\n",
    "            edit_page.children += (AV,)\n",
    "            edit_page.children += (editarea,)\n",
    "\n",
    "            yr_sel.disable = True\n",
    "            idn_sel.disable = True\n",
    "            b.disabled = True\n",
    "            print(\"Edit along!\")\n",
    "        except:\n",
    "            print(\"Error loading!\")\n",
    "    \n",
    "\n",
    "    @idn_sel_out.capture(clear_output=True)\n",
    "    def sel_change(change):\n",
    "        global status_opts\n",
    "\n",
    "        if yr_sel.value is not None and idn_sel.value is not None:\n",
    "            msk = (df.year==yr_sel.value) & (df.N==idn_sel.value)\n",
    "            fname = df.loc[msk].name.values[0]\n",
    "            btn_load.disabled = False\n",
    "            print(yr_sel.value+' / '+ fname)\n",
    "         \n",
    "    yr_sel = ipw.Select(options=yrs,\n",
    "                         layout=ipw.Layout(width='50px'))\n",
    "    idn_sel = ipw.Select(options=idns,\n",
    "                         value=None,\n",
    "                         layout=ipw.Layout(width='60px'))\n",
    "    idn_sel.observe(sel_change, 'value')\n",
    "\n",
    "    av_radio = ipw.RadioButtons(options=['Audio','Video'], value='Audio')\n",
    "\n",
    "    status_sel = ipw.Select(options=status_opts, value=None, disabled=True)\n",
    "\n",
    "    btn_load = ipw.Button(description='LOAD', button_style='info', disabled=True)\n",
    "    btn_load.on_click(load_btn_click)\n",
    "\n",
    "    idn_sel_hbox = ipw.VBox([ipw.HTML(value='<h3>Select the Event Year, id, AV player (and change the Status before saving!).</H3>'),\n",
    "                             ipw.HBox(children=[ipw.HBox([yr_sel, idn_sel]),\n",
    "                                      ipw.VBox([av_radio, idn_sel_out]),\n",
    "                                      status_sel,\n",
    "                                      ipw.VBox([btn_load, load_btn_out],\n",
    "                                               layout=ipw.Layout(flex_flow='column',\n",
    "                                                                 justify_content='flex-end'))\n",
    "                                     ])\n",
    "                            ], layout=ipw.Layout(margin='0px 0px 0px 30px'))\n",
    "\n",
    "    # start the page with the selection controls only:\n",
    "    return ipw.VBox(children=(idn_sel_hbox,),\n",
    "                    layout=ipw.Layout(margin='0px 0px 0px 30px'))\n"
   ]
  },
  {
   "cell_type": "code",
   "execution_count": 130,
   "metadata": {},
   "outputs": [
    {
     "data": {
      "application/vnd.jupyter.widget-view+json": {
       "model_id": "d06b88a3639b43f3b5856f684e326aed",
       "version_major": 2,
       "version_minor": 0
      },
      "text/plain": [
       "VBox(children=(VBox(children=(HTML(value='<h3>Select the Event Year, id, AV player (and change the Status befo…"
      ]
     },
     "metadata": {},
     "output_type": "display_data"
    }
   ],
   "source": [
    "edit_page = get_edit_page()\n",
    "edit_page"
   ]
  },
  {
   "cell_type": "raw",
   "metadata": {},
   "source": [
    "#TR = Meta.TranscriptMeta(idn_sel.value, yr_sel.value)\n",
    "\n",
    "TR.event_dict['idn']\n",
    "TR.event_dict['status']\n",
    "#Meta.TrStatus.TODO.value"
   ]
  },
  {
   "cell_type": "code",
   "execution_count": 136,
   "metadata": {},
   "outputs": [
    {
     "data": {
      "application/vnd.jupyter.widget-view+json": {
       "model_id": "893f167d92b1456cafe34190429b6662",
       "version_major": 2,
       "version_minor": 0
      },
      "text/plain": [
       "AppLayout(children=(HTML(value='<div style=\"text-align:center;padding:5px;width:98%\"><a href=\"https://www.data…"
      ]
     },
     "metadata": {},
     "output_type": "display_data"
    }
   ],
   "source": [
    "du_gui"
   ]
  },
  {
   "cell_type": "code",
   "execution_count": null,
   "metadata": {},
   "outputs": [],
   "source": []
  },
  {
   "cell_type": "code",
   "execution_count": 55,
   "metadata": {
    "collapsed": true,
    "jupyter": {
     "outputs_hidden": true
    }
   },
   "outputs": [
    {
     "data": {
      "text/plain": [
       "OrderedDict([('presenter', 'cat chenal'),\n",
       "             ('title', 'my presentation title'),\n",
       "             ('event_url', 'N.A.'),\n",
       "             ('yt_video_id', 'MHAjCcBfT_A'),\n",
       "             ('slides_url', 'N.A.'),\n",
       "             ('repo_url', 'https://github.com/CatChenal'),\n",
       "             ('notebook_url', 'N.A.'),\n",
       "             ('transcriber', 'N.A.'),\n",
       "             ('extra_references',\n",
       "              \"- Binder: each listed item should have a 'list header', e.g. '- Binder'  \\n- Twitter: Use this format: [full name 1](twitter url), etc.     \\n- Wiki: This is an excellent [wiki on transcription](http://en.wikipedia.org/wiki/Main_Page) \"),\n",
       "             ('video_href', 'N.A.'),\n",
       "             ('video_href_src', 'N.A.'),\n",
       "             ('video_href_alt', 'N.A.'),\n",
       "             ('video_href_w', '25%'),\n",
       "             ('formatted_transcript', 'N.A.'),\n",
       "             ('year', '2020'),\n",
       "             ('idn', '22'),\n",
       "             ('video_url', 'https://www.youtube.com/watch?v=MHAjCcBfT_A'),\n",
       "             ('title_kw', 'foo foo'),\n",
       "             ('transcript_md', 'N.A.'),\n",
       "             ('audio_track', 'N.A.'),\n",
       "             ('audio_text', 'N.A.'),\n",
       "             ('has_transcript', False),\n",
       "             ('trans_idx', 307),\n",
       "             ('status', 'Not yet processed (editor needed)'),\n",
       "             ('notes', 'Dummy event')])"
      ]
     },
     "execution_count": 55,
     "metadata": {},
     "output_type": "execute_result"
    }
   ],
   "source": [
    "form_data_dict = FLO.validate_form_entries(new_entry_group, new_input, TR)\n",
    "form_data_dict"
   ]
  },
  {
   "cell_type": "markdown",
   "metadata": {},
   "source": [
    "---\n",
    "---"
   ]
  }
 ],
 "metadata": {
  "kernelspec": {
   "display_name": "Python 3",
   "language": "python",
   "name": "python3"
  },
  "language_info": {
   "codemirror_mode": {
    "name": "ipython",
    "version": 3
   },
   "file_extension": ".py",
   "mimetype": "text/x-python",
   "name": "python",
   "nbconvert_exporter": "python",
   "pygments_lexer": "ipython3",
   "version": "3.7.6"
  }
 },
 "nbformat": 4,
 "nbformat_minor": 4
}
