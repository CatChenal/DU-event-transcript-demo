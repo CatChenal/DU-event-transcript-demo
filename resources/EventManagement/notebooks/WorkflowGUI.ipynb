{
 "cells": [
  {
   "cell_type": "code",
   "execution_count": 1,
   "metadata": {
    "jupyter": {
     "source_hidden": true
    }
   },
   "outputs": [
    {
     "name": "stdout",
     "output_type": "stream",
     "text": [
      "Path added to sys.path: C:/Users/catch/Documents/GitHub/DU-event-transcript-demo/resources/EventManagement\n"
     ]
    }
   ],
   "source": [
    "# To get multiple outputs from one code cell (without using print()):\n",
    "from IPython.core.interactiveshell import InteractiveShell\n",
    "InteractiveShell.ast_node_interactivity = 'all'\n",
    "\n",
    "from IPython import get_ipython\n",
    "from IPython.display import HTML, Markdown, Image, Audio\n",
    "import sys\n",
    "from pathlib import Path\n",
    "import pandas as pd\n",
    "from pprint import pprint as pp\n",
    "\n",
    "# For documenting the current environment:\n",
    "def sys_info():\n",
    "    frmt = '\\nPython ver: {}\\nPython env: {}\\n'\n",
    "    frmt += 'OS:         {}\\nCurrent dir: {}\\n'\n",
    "    print(frmt.format(sys.version, \n",
    "                      Path(sys.prefix).name,\n",
    "                      sys.platform,\n",
    "                      Path.cwd()))\n",
    "\n",
    "# For enabling imports from current project code:\n",
    "def add_to_sys_path(this_path, up=False):\n",
    "    \"\"\"\n",
    "    Prepend this_path to sys.path.\n",
    "    If up=True, path refers to parent folder (1 level up).\n",
    "    \"\"\"\n",
    "    newp = Path(this_path).as_posix() # no str method (?)\n",
    "    if up:\n",
    "        newp = Path(this_path).parent.as_posix()\n",
    "\n",
    "    msg = F'Path already in sys.path: {newp}'\n",
    "    if newp not in sys.path:\n",
    "        sys.path.insert(1, newp)\n",
    "        msg = F'Path added to sys.path: {newp}'\n",
    "    print(msg)\n",
    "\n",
    "# If this ipynb file is inside a folder, eg ./notebooks, \n",
    "# the project code is assumed to reside 1 level up:\n",
    "nb_folder = 'notebooks'\n",
    "add_to_sys_path(Path.cwd(), up=Path.cwd().name.startswith(nb_folder))\n",
    "\n",
    "# For py modules/methods discovery:\n",
    "def filter_dir(mdl, filter_str=None, start_with_str='_', exclude=True):\n",
    "    \"\"\"Filter dir(mdl) for method discovery.\n",
    "       Input:\n",
    "       :param mdl (object): module, optionally with submodule path(s), e.g. mdl.submdl1.submdl2.\n",
    "       :param filter_str (str, None): filter all method names containing that string.\n",
    "       :param start_with_str (str, '_'), exclude (bool, True): start_with_str and exclude work \n",
    "              together to perform search on non-dunder methods (default).\n",
    "       Example:\n",
    "       >filter_dir(re) # lists the public methods of the re module.\n",
    "    \"\"\"\n",
    "    search_dir = [d for d in dir(mdl) if not d.startswith(start_with_str) == exclude]\n",
    "    if filter_str is None:\n",
    "        return search_dir\n",
    "    else:\n",
    "        filter_str = filter_str.lower()\n",
    "        return [d for d in search_dir if d.lower().find(filter_str) != -1]\n",
    "\n",
    "# To create often-used subfolders:\n",
    "def get_project_dirs(which=['data', 'images'],\n",
    "                     use_parent=True):\n",
    "    '''Create folder(s) named in `which` at the ipynb parent level.'''\n",
    "    if use_parent:\n",
    "        dir_fn = Path.cwd().parent.joinpath\n",
    "    else:\n",
    "        dir_fn = Path.cwd().joinpath\n",
    "        \n",
    "    dir_lst = []    \n",
    "    for d in which:\n",
    "        DIR = dir_fn(d)\n",
    "        if not DIR.exists():\n",
    "            Path.mkdir(DIR)\n",
    "        dir_lst.append(DIR)\n",
    "    return dir_lst\n",
    "\n",
    "# For adding colorfull divider in the nb:\n",
    "def add_div(div_class='info', div_start='Tip:', \n",
    "            div_text='Some tip here', output_string=True):\n",
    "    \"\"\"\n",
    "    Behaviour with default `output_string=True`:\n",
    "    The cell is overwritten with the output, but the cell mode is still 'code',\n",
    "    not 'markdown'.\n",
    "    Workaround: After running the function, click on the new cell, press ESC, \n",
    "                type 'm', then run the new cell.\n",
    "    If `output_string=False`, the output is displayed in an new cell with the \n",
    "    code cell visible.\n",
    "    ```\n",
    "    [x]\n",
    "    add_div('alert-warning', 'Tip: ', 'some tip here', output_string=True)\n",
    "    [x]\n",
    "    <div class=\"alert alert-warning\"><b>Tip: </b>some tip here</div>\n",
    "    ```\n",
    "    \"\"\"\n",
    "    accepted = ['info', 'warning', 'danger']\n",
    "    div_class = div_class.lower()\n",
    "    if div_class not in accepted:\n",
    "        msg = f'<div class=\"alert\"><b>Wrong class:&nbsp;</b> `div_start` not in: {accepted}.</div>'\n",
    "        return Markdown(msg)\n",
    "    \n",
    "    div = f\"\"\"<div class=\"alert alert-{div_class}\"><b>{div_start}&nbsp;&nbsp;</b>{div_text}</div>\"\"\"\n",
    "    if output_string:\n",
    "        return get_ipython().set_next_input(div, 'markdown')\n",
    "    else:\n",
    "        return Markdown(div)\n",
    "\n",
    "\n",
    "def new_section(title='New section'):\n",
    "    style = \"text-align:center;background:#c2d3ef;padding:16px;color:#ffffff;font-size:3em;width:98%\"\n",
    "    div = f'<div style=\"{style}\">{title}</div>'\n",
    "    #return HTML('<div style=\"{}\">{}</div>'.format(style, title))\n",
    "    return get_ipython().set_next_input(div, 'markdown')\n",
    "\n",
    "# autoreload extension\n",
    "if 'autoreload' not in get_ipython().extension_manager.loaded:\n",
    "    get_ipython().run_line_magic('load_ext', 'autoreload')\n",
    "\n",
    "%autoreload 2\n",
    "# ................."
   ]
  },
  {
   "cell_type": "code",
   "execution_count": 2,
   "metadata": {},
   "outputs": [],
   "source": [
    "import ipywidgets as ipw\n",
    "from collections import OrderedDict\n",
    "\n",
    "from manage import (EventMeta as Meta,\n",
    "                    EventTranscription as TRX,\n",
    "                    Workflow as FLO,\n",
    "                    Utils as UTL)\n",
    "\n",
    "main_readme = Meta.MAIN_README"
   ]
  },
  {
   "cell_type": "raw",
   "metadata": {},
   "source": [
    "Markdown('### Local README:')\n",
    "FLO.show_local_readme(main_readme)\n",
    "Markdown('---\\n---')"
   ]
  },
  {
   "cell_type": "code",
   "execution_count": 5,
   "metadata": {},
   "outputs": [
    {
     "data": {
      "text/html": [
       "<div style=\"text-align:center;padding:5px;width:98%\"><a href=\"https://www.dataumbrella.org\" target=\"_blank\"> <img src=\"https://raw.githubusercontent.com/data-umbrella/event-transcripts/master/images/full_logo_transparent.png\" width=\"30%\" /></a></div>"
      ],
      "text/plain": [
       "<IPython.core.display.HTML object>"
      ]
     },
     "execution_count": 5,
     "metadata": {},
     "output_type": "execute_result"
    },
    {
     "data": {
      "text/html": [
       "<div style=\"text-align:center;padding:5px;background:#c2d3ef;color:#ffffff;font-size:3em;width:98%\">Add a Data Umbrella Event</div><div style=\"text-align:justify;margin-left:100px;font-size:2em;width:90%;\">\n",
       "This section pertains to the functions related to the creation of a new event, i.e.:  \n",
       "<ul>\n",
       "  <li>the creation of a new row in the main table of the README file, and </li>\n",
       "  <li>the creation of a starter transcript Markdown file (without the transcript text).</li>\n",
       "</ul>\n",
       "These functions are associated with the (functional) user role of  <i>Admin</i>.\n",
       "</div>"
      ],
      "text/plain": [
       "<IPython.core.display.HTML object>"
      ]
     },
     "execution_count": 5,
     "metadata": {},
     "output_type": "execute_result"
    }
   ],
   "source": [
    "FLO.show_du_logo_hdr()\n",
    "FLO.DisplaySectionInfo(FLO.EventFunction.ADD).show_header_with_info()"
   ]
  },
  {
   "cell_type": "code",
   "execution_count": 149,
   "metadata": {},
   "outputs": [
    {
     "ename": "NameError",
     "evalue": "name 'validate_out' is not defined",
     "output_type": "error",
     "traceback": [
      "\u001b[1;31m---------------------------------------------------------------------------\u001b[0m",
      "\u001b[1;31mNameError\u001b[0m                                 Traceback (most recent call last)",
      "\u001b[1;32m<ipython-input-149-b92bacecf55f>\u001b[0m in \u001b[0;36m<module>\u001b[1;34m\u001b[0m\n\u001b[0;32m     96\u001b[0m     \u001b[1;32mreturn\u001b[0m\u001b[1;33m\u001b[0m\u001b[1;33m\u001b[0m\u001b[0m\n\u001b[0;32m     97\u001b[0m \u001b[1;33m\u001b[0m\u001b[0m\n\u001b[1;32m---> 98\u001b[1;33m \u001b[1;33m@\u001b[0m\u001b[0mvalidate_out\u001b[0m\u001b[1;33m.\u001b[0m\u001b[0mcapture\u001b[0m\u001b[1;33m(\u001b[0m\u001b[1;33m)\u001b[0m\u001b[1;33m\u001b[0m\u001b[1;33m\u001b[0m\u001b[0m\n\u001b[0m\u001b[0;32m     99\u001b[0m \u001b[1;32mdef\u001b[0m \u001b[0msave_entry\u001b[0m\u001b[1;33m(\u001b[0m\u001b[1;33m)\u001b[0m\u001b[1;33m:\u001b[0m\u001b[1;33m\u001b[0m\u001b[1;33m\u001b[0m\u001b[0m\n\u001b[0;32m    100\u001b[0m     \u001b[1;32mtry\u001b[0m\u001b[1;33m:\u001b[0m\u001b[1;33m\u001b[0m\u001b[1;33m\u001b[0m\u001b[0m\n",
      "\u001b[1;31mNameError\u001b[0m: name 'validate_out' is not defined"
     ]
    }
   ],
   "source": [
    "# these 2 not yet used:\n",
    "# save_actions_add = ['Update meta', 'Save meta', 'Create transcript', 'Update README table']\n",
    "# show_actions = ['Show transcript', 'Show README']\n",
    "\n",
    "# REMOVED: 'Validate' :: it's now a btn\n",
    "sub_actions = [['Enter info', 'Save', 'Show'],\n",
    "               ['Select event id', 'Modify table row',\n",
    "                'Save', 'Show'],\n",
    "               ['Select event id', 'Get transcript', 'Edit transcript',\n",
    "                'Save', 'Show']\n",
    "              ]\n",
    "               \n",
    "actions_d = OrderedDict([('Add an event', sub_actions[0]),\n",
    "                         ('Modify an event', sub_actions[1]),\n",
    "                         ('Edit a transcript',  sub_actions[2])\n",
    "                        ])\n",
    "\n",
    "# needed?: idx from action_d\n",
    "\n",
    "# Input form components: ..........................................\n",
    "\n",
    "def get_tabs(actions_d, tab_forms=None):\n",
    "    tabs = ipw.Tab(layout=ipw.Layout(width='100%'))\n",
    "    ks = list(actions_d.keys())\n",
    "    if tab_forms is None:\n",
    "        tabs.children = [ipw.HBox(description=k) for k in ks]\n",
    "    else:\n",
    "        tabs.children = tab_forms\n",
    "    for i, k in enumerate(ks):\n",
    "        # shortened bc tab width is fixed at 144px\n",
    "        tabs.set_title(i, k.split()[0].upper())\n",
    "    return tabs\n",
    "\n",
    "\n",
    "def get_left_acc(acts_d, on_click_fn):\n",
    "    \"\"\"\n",
    "    Creat Accordion with buttons children that have:\n",
    "     - attributes: [name, idx] &\n",
    "     - on_click function\n",
    "    inside an .\n",
    "    \"\"\"\n",
    "    sub_btns = []\n",
    "    acc_items = [ipw.VBox(description=k) for k in list(acts_d.keys())]\n",
    "    menu_acc = ipw.Accordion(children=acc_items,\n",
    "                             selected_index=None,\n",
    "                             layout=ipw.Layout(width='15%'))\n",
    "    \n",
    "    for i, (k, v) in enumerate(acts_d.items()):\n",
    "        for j, s in enumerate(v):\n",
    "            # only enable the 1st btn on the list:\n",
    "            dsbl = False if j == 0 else True\n",
    "            btn = ipw.Button(description=s,\n",
    "                             disabled=dsbl)\n",
    "            setattr(btn, 'name', s)\n",
    "            setattr(btn, 'idx', j)\n",
    "            setattr(btn, 'parent_idx', i)\n",
    "            \n",
    "            btn.on_click(on_click_fn)\n",
    "            sub_btns.append(btn)\n",
    "            \n",
    "        menu_acc.children[i].children = sub_btns\n",
    "        menu_acc.set_title(i, k.upper())\n",
    "        sub_btns = []\n",
    "    \n",
    "    return menu_acc\n",
    "\n",
    "\n",
    "def wgt_Show():\n",
    "    #todo\n",
    "    return\n",
    "\n",
    "# ...................................................................\n",
    "\n",
    "# Globals to receive instantiated TranscriptMeta & user entries     \n",
    "TR = None\n",
    "form_data_dict = None\n",
    "\n",
    "validate_out = ipw.Output()\n",
    "\n",
    "#@validate_out.capture()\n",
    "def validate_new(entry_form, new_input_dict):\n",
    "    global  TR\n",
    "    global form_data_dict\n",
    "    \n",
    "    # metadata instance for new record:\n",
    "    TR = Meta.TranscriptMeta()\n",
    "    form_data_dict = FLO.validate_form_entries(entry_form,\n",
    "                                               new_input_dict,\n",
    "                                               TR)\n",
    "    if form_data_dict is not None:\n",
    "        # works?\n",
    "        validate_out.value = 'Save: OK!'\n",
    "        menu_acc.children[selected_index]\n",
    "        #print('Validation: OK!')  #return needed?\n",
    "    else:\n",
    "        print('Validation: Fix & Try again.')\n",
    "    return\n",
    "\n",
    "@validate_out.capture()\n",
    "def save_entry():\n",
    "    try:\n",
    "        TR.update_metadata(form_data_dict)\n",
    "        TR.save_meta()\n",
    "        TR.save_transcript_md()\n",
    "        print('Save: OK!')\n",
    "    except:\n",
    "        print('Save: Something went wrong.')\n",
    "\n",
    "@validate_out.capture()\n",
    "def show_update():\n",
    "    # add container to main_page?\n",
    "    # or add a SHOW tab?\n",
    "    if TR.transcript_md_path() == Meta.NA:\n",
    "        print(\"No transcript file. Problem!\")\n",
    "        \n",
    "    code = Markdown(filename=TR.transcript_md_path().data)\n",
    "    tab_kids = page_tabs.children + [ipw.HTML(code)]\n",
    "    page_tabs.children = tab_kids\n",
    "    page_tabs.selected_index = 3\n",
    "        \n",
    "    \n",
    "def menu_btn_onclick(wgt):\n",
    "    if wgt.name == 'Save':\n",
    "        save_entry()\n",
    "    elif wgt.name == 'Show':\n",
    "        show_update()\n",
    "                    \n",
    "    elif wgt.parent_idx == 0:\n",
    "        if wgt.name == 'Enter info':\n",
    "            page_tabs.children[wgt.parent_idx].children = [new_entry_group,\n",
    "                                                           validate_vbx]\n",
    "        elif wgt.name == 'Validate':\n",
    "            validate_new(new_entry_group, new_input)\n",
    "    elif wgt.parent_idx == 1:\n",
    "        page_tabs.children[0].children = []\n",
    "        if len(page_tabs.children) == 4:\n",
    "            page_tabs.children[3].close()\n",
    "        # temp, here should place idn sel box 1st &\n",
    "        # set 'entry group' to disabled until idn selected.\n",
    "        page_tabs.children[wgt.parent_idx].children = [new_entry_group,\n",
    "                                                       validate_vbx]\n",
    "    \n",
    "        \n",
    "# observe function\n",
    "def menu_selection(change):\n",
    "    tabs.selected_index = acco.selected_index\n",
    "\n",
    "# ...............................................................    \n",
    "# layouts:\n",
    "main_layout = ipw.Layout(display='flex',\n",
    "                         flex_flow='column',\n",
    "                         align_items='stretch',\n",
    "                         width='100%')\n",
    "\n",
    "form_item_layout = ipw.Layout(display='flex',\n",
    "                              flex_flow='row',\n",
    "                              justify_content='space-between',\n",
    "                              width='95%'\n",
    "                             )\n",
    "\n",
    "new_input = FLO.get_demo_input_dict()  # demo data items\n",
    "children = [FLO.wgt_from_flds_dict(k, v) for k, v in new_input.items()]\n",
    "\n",
    "new_entry_group = FLO.wgt_Acc(children) # wgt for each item\n",
    "\n",
    "# OR: BTN=='VALIDATE' (+ OUT BOX):: IF MSG OK\n",
    "#     'SAVE' IS ENABLED\n",
    "# REUSE OUT BOX FOR SSAVE OUTCOME:: IF MSG OK\n",
    "#      'SHOW' IS ENABLED.\n",
    "# ==> REMOVE 'Validate' FROM ACC MENU\n",
    "\n",
    "\n",
    "validate_btn = ipw.Button(description='Validate',\n",
    "                      button_style='success',\n",
    "                      icon='check', disabled=True)\n",
    "# moved need to occur before deroator\n",
    "#validate_out = ipw.Output()\n",
    "validate_vbx = ipw.VBox([validate_btn, validate_out])\n",
    "\n",
    "# Get page components:\n",
    "page_tabs = get_tabs(actions_d)\n",
    "menu_acc = get_left_acc(actions_d, menu_btn_onclick)\n",
    "\n",
    "# todo if OK in text:\n",
    "#  menu_acc[selected_index].children[0].disabled = True\n",
    "#  menu_acc[selected_index].children[1].disabled = False\n",
    "#menu_acc.observe(validate_out, 'text')\n",
    "\n",
    "# Link accodrion selection index with tab index:\n",
    "menu_acc.observe(menu_selection, names='value')\n",
    "dl0 = ipw.dlink((menu_acc, 'selected_index'), (page_tabs, 'selected_index'))\n",
    "\n",
    "# Main container:\n",
    "main_page = ipw.VBox([ipw.HBox([menu_acc, page_tabs],\n",
    "                               layout=form_item_layout)],\n",
    "                     layout=main_layout)"
   ]
  },
  {
   "cell_type": "code",
   "execution_count": 145,
   "metadata": {},
   "outputs": [
    {
     "data": {
      "application/vnd.jupyter.widget-view+json": {
       "model_id": "8978e8f1a5e84f9ea6dac9f8c25dbfe2",
       "version_major": 2,
       "version_minor": 0
      },
      "text/plain": [
       "VBox(children=(HBox(children=(Accordion(children=(VBox(children=(Button(description='Enter info', style=Button…"
      ]
     },
     "metadata": {},
     "output_type": "display_data"
    }
   ],
   "source": [
    "main_page"
   ]
  },
  {
   "cell_type": "raw",
   "metadata": {},
   "source": [
    "TR\n",
    "form_data_dict"
   ]
  },
  {
   "cell_type": "markdown",
   "metadata": {},
   "source": [
    "---\n",
    "---"
   ]
  },
  {
   "cell_type": "markdown",
   "metadata": {},
   "source": [
    "## Step 1: instantiate new TranscriptMeta class"
   ]
  },
  {
   "cell_type": "code",
   "execution_count": 153,
   "metadata": {},
   "outputs": [],
   "source": [
    "tr = Meta.TranscriptMeta()"
   ]
  },
  {
   "cell_type": "markdown",
   "metadata": {},
   "source": [
    "## Step 2: build the entry group to supply each of the main keys, with exception for video: video_url => split"
   ]
  },
  {
   "cell_type": "raw",
   "metadata": {},
   "source": [
    "new_input_d = FLO.get_new_input_flds()\n",
    "\n",
    "TODO: change to main_page fn\n",
    "\n",
    "new_entry_form = FLO.input_wgt_group(new_input_d)\n",
    "new_entry_form"
   ]
  },
  {
   "cell_type": "markdown",
   "metadata": {},
   "source": [
    "## Step 3: Save btn steps:\n",
    "### Step 3.1 Retrieve data from form"
   ]
  },
  {
   "cell_type": "raw",
   "metadata": {},
   "source": [
    "update_dict = FLO.validate_form_entries(new_entry_form, new_input_d, tr)"
   ]
  },
  {
   "cell_type": "raw",
   "metadata": {},
   "source": [
    "pp(update_dict)"
   ]
  },
  {
   "cell_type": "markdown",
   "metadata": {},
   "source": [
    "### Step 3.2: update metadata & save to json:"
   ]
  },
  {
   "cell_type": "raw",
   "metadata": {},
   "source": [
    "tr.update_metadata(update_dict)\n",
    "tr.save_meta()"
   ]
  },
  {
   "cell_type": "markdown",
   "metadata": {},
   "source": [
    "### Step 4: create new transcript md file"
   ]
  },
  {
   "cell_type": "raw",
   "metadata": {},
   "source": [
    "tr.save_transcript_md()"
   ]
  },
  {
   "cell_type": "markdown",
   "metadata": {},
   "source": [
    "### Step 5: Show created md file"
   ]
  },
  {
   "cell_type": "code",
   "execution_count": 204,
   "metadata": {},
   "outputs": [
    {
     "data": {
      "text/markdown": [
       "---"
      ],
      "text/plain": [
       "<IPython.core.display.Markdown object>"
      ]
     },
     "execution_count": 204,
     "metadata": {},
     "output_type": "execute_result"
    },
    {
     "data": {
      "text/markdown": [
       "Cat Chenal: My Presentation Title\n",
       "=================================\n",
       "\n",
       "Key Links\n",
       "---------\n",
       "\n",
       "-   Transcript:\n",
       "    <https://github.com/data-umbrella/event-transcripts/blob/main/2020/18-cat-chenal-bar-foo-foo.md>\n",
       "-   Meetup Event: N.A.\n",
       "-   Video: <https://youtu.be/MHAjCcBfT_A>\n",
       "-   Slides: N.A.\n",
       "-   GitHub repo: <https://github.com/CatChenal>\n",
       "-   Jupyter Notebook: N.A.\n",
       "-   Transcriber: N.A.\n",
       "\n",
       "Other References\n",
       "----------------\n",
       "\n",
       "-   Binder: url\n",
       "-   Paper: url or citation.\n",
       "\n",
       "Wiki of Note\n",
       "------------\n",
       "\n",
       "-   Wiki: This is an excellent [wiki on audio\n",
       "    transcription](http://en.wikipedia.org/wiki/Main_Page)\n",
       "\n",
       "Video\n",
       "-----\n",
       "\n",
       "<div markdown=\"1\" width=\"25%\">\n",
       "\n",
       "[![My Presentation\n",
       "Title](http://img.youtube.com/vi/MHAjCcBfT_A/0.jpg)](http://www.youtube.com/watch?feature=player_embedded&v=MHAjCcBfT_A)\n",
       "\n",
       "</div>\n",
       "\n",
       "Transcript\n",
       "----------\n",
       "\n",
       "N.A.\n"
      ],
      "text/plain": [
       "<IPython.core.display.Markdown object>"
      ]
     },
     "execution_count": 204,
     "metadata": {},
     "output_type": "execute_result"
    },
    {
     "data": {
      "text/markdown": [
       "---"
      ],
      "text/plain": [
       "<IPython.core.display.Markdown object>"
      ]
     },
     "execution_count": 204,
     "metadata": {},
     "output_type": "execute_result"
    }
   ],
   "source": [
    "Markdown('---')\n",
    "Markdown(filename=tr.transcript_md_path())\n",
    "Markdown('---')"
   ]
  },
  {
   "cell_type": "code",
   "execution_count": 205,
   "metadata": {},
   "outputs": [
    {
     "name": "stdout",
     "output_type": "stream",
     "text": [
      "('Cat Chenal: My Presentation Title\\n'\n",
      " '=================================\\n'\n",
      " '\\n'\n",
      " 'Key Links\\n'\n",
      " '---------\\n'\n",
      " '\\n'\n",
      " '-   Transcript:\\n'\n",
      " '    '\n",
      " '<https://github.com/data-umbrella/event-transcripts/blob/main/2020/18-cat-chenal-bar-foo-foo.md>\\n'\n",
      " '-   Meetup Event: N.A.\\n'\n",
      " '-   Video: <https://youtu.be/MHAjCcBfT_A>\\n'\n",
      " '-   Slides: N.A.\\n'\n",
      " '-   GitHub repo: <https://github.com/CatChenal>\\n'\n",
      " '-   Jupyter Notebook: N.A.\\n'\n",
      " '-   Transcriber: N.A.\\n'\n",
      " '\\n'\n",
      " 'Other References\\n'\n",
      " '----------------\\n'\n",
      " '\\n'\n",
      " '-   Binder: url\\n'\n",
      " '-   Paper: url or citation.\\n'\n",
      " '\\n'\n",
      " 'Wiki of Note\\n'\n",
      " '------------\\n'\n",
      " '\\n'\n",
      " '-   Wiki: This is an excellent [wiki on audio\\n'\n",
      " '    transcription](http://en.wikipedia.org/wiki/Main_Page)\\n'\n",
      " '\\n'\n",
      " 'Video\\n'\n",
      " '-----\\n'\n",
      " '\\n'\n",
      " '<div markdown=\"1\" width=\"25%\">\\n'\n",
      " '\\n'\n",
      " '[![My Presentation\\n'\n",
      " 'Title](http://img.youtube.com/vi/MHAjCcBfT_A/0.jpg)](http://www.youtube.com/watch?feature=player_embedded&v=MHAjCcBfT_A)\\n'\n",
      " '\\n'\n",
      " '</div>\\n'\n",
      " '\\n'\n",
      " 'Transcript\\n'\n",
      " '----------\\n'\n",
      " '\\n'\n",
      " 'N.A.\\n')\n"
     ]
    }
   ],
   "source": [
    "raw_md = Markdown(filename=tr.transcript_md_path()).data\n",
    "pp(raw_md)"
   ]
  },
  {
   "cell_type": "markdown",
   "metadata": {},
   "source": [
    "## After displaying transcript_md, ask Update README table?:"
   ]
  },
  {
   "cell_type": "raw",
   "metadata": {},
   "source": [
    "do_update = input(\"Update table entry in README? [y]: yes, [n]: no\")\n",
    "do_update = 1 if do_update.lower() == 'y' else 0\n",
    "\n",
    "# TODO: choose status\n",
    "\n",
    "if do_update:\n",
    "    tr.update_readme(TRX.TrStatus.REVIEW)"
   ]
  }
 ],
 "metadata": {
  "kernelspec": {
   "display_name": "Python 3",
   "language": "python",
   "name": "python3"
  },
  "language_info": {
   "codemirror_mode": {
    "name": "ipython",
    "version": 3
   },
   "file_extension": ".py",
   "mimetype": "text/x-python",
   "name": "python",
   "nbconvert_exporter": "python",
   "pygments_lexer": "ipython3",
   "version": "3.7.6"
  }
 },
 "nbformat": 4,
 "nbformat_minor": 4
}
